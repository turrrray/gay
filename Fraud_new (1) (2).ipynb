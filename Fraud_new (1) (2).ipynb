{
 "cells": [
  {
   "cell_type": "markdown",
   "metadata": {},
   "source": [
    "# Fraud in Electricity and Gas Consumption #"
   ]
  },
  {
   "cell_type": "code",
   "execution_count": 76,
   "metadata": {},
   "outputs": [],
   "source": [
    "import numpy as np\n",
    "import pandas as pd\n",
    "import matplotlib.pyplot as plt\n",
    "from datetime import datetime\n",
    "from imblearn.over_sampling import SMOTE\n",
    "from imblearn.under_sampling import TomekLinks\n",
    "from imblearn.combine import SMOTEENN\n",
    "from sklearn.preprocessing import StandardScaler, MinMaxScaler\n",
    "import seaborn as sns\n",
    "\n",
    "from sklearn.metrics import fbeta_score, make_scorer, accuracy_score, roc_auc_score, precision_score, average_precision_score\n",
    "from sklearn.model_selection import RandomizedSearchCV, StratifiedKFold, train_test_split, cross_val_score, cross_validate\n",
    "from sklearn.linear_model import LogisticRegression\n",
    "from sklearn import svm\n",
    "import lightgbm as lgb\n",
    "from sklearn.ensemble import RandomForestClassifier, AdaBoostClassifier\n",
    "from sklearn.tree import DecisionTreeClassifier\n",
    "seed = 69\n"
   ]
  },
  {
   "cell_type": "markdown",
   "metadata": {},
   "source": [
    "## Data Cleaning"
   ]
  },
  {
   "cell_type": "markdown",
   "metadata": {},
   "source": [
    "### Since 2 datasets were provided, we attempt to combine both datasets into 1 on the id columm. ###"
   ]
  },
  {
   "cell_type": "code",
   "execution_count": 2,
   "metadata": {},
   "outputs": [],
   "source": [
    "invoice_df = pd.read_csv('invoice.csv')\n",
    "client_df = pd.read_csv('client.csv')\n",
    "\n",
    "combined_df = pd.merge(client_df, invoice_df, on='id', how='left')\n",
    "\n"
   ]
  },
  {
   "cell_type": "code",
   "execution_count": 3,
   "metadata": {},
   "outputs": [
    {
     "data": {
      "text/html": [
       "<div>\n",
       "<style scoped>\n",
       "    .dataframe tbody tr th:only-of-type {\n",
       "        vertical-align: middle;\n",
       "    }\n",
       "\n",
       "    .dataframe tbody tr th {\n",
       "        vertical-align: top;\n",
       "    }\n",
       "\n",
       "    .dataframe thead th {\n",
       "        text-align: right;\n",
       "    }\n",
       "</style>\n",
       "<table border=\"1\" class=\"dataframe\">\n",
       "  <thead>\n",
       "    <tr style=\"text-align: right;\">\n",
       "      <th></th>\n",
       "      <th>region</th>\n",
       "      <th>date_x</th>\n",
       "      <th>dis</th>\n",
       "      <th>id</th>\n",
       "      <th>catg</th>\n",
       "      <th>target</th>\n",
       "      <th>date_y</th>\n",
       "      <th>tarif_type</th>\n",
       "      <th>counter_number</th>\n",
       "      <th>counter_statue</th>\n",
       "      <th>...</th>\n",
       "      <th>reading_remarque</th>\n",
       "      <th>consommation_level_4</th>\n",
       "      <th>old_index</th>\n",
       "      <th>new_index</th>\n",
       "      <th>months_number</th>\n",
       "      <th>counter_type</th>\n",
       "      <th>counter_coefficient</th>\n",
       "      <th>consommation_level_1</th>\n",
       "      <th>consommation_level_2</th>\n",
       "      <th>consommation_level_3</th>\n",
       "    </tr>\n",
       "  </thead>\n",
       "  <tbody>\n",
       "    <tr>\n",
       "      <th>0</th>\n",
       "      <td>101</td>\n",
       "      <td>31/12/1994</td>\n",
       "      <td>60</td>\n",
       "      <td>train_Client_0</td>\n",
       "      <td>11</td>\n",
       "      <td>0</td>\n",
       "      <td>24/3/2014</td>\n",
       "      <td>11</td>\n",
       "      <td>1335667.0</td>\n",
       "      <td>0</td>\n",
       "      <td>...</td>\n",
       "      <td>8</td>\n",
       "      <td>0</td>\n",
       "      <td>14302</td>\n",
       "      <td>14384</td>\n",
       "      <td>4</td>\n",
       "      <td>ELEC</td>\n",
       "      <td>1</td>\n",
       "      <td>82</td>\n",
       "      <td>0</td>\n",
       "      <td>0</td>\n",
       "    </tr>\n",
       "    <tr>\n",
       "      <th>1</th>\n",
       "      <td>101</td>\n",
       "      <td>31/12/1994</td>\n",
       "      <td>60</td>\n",
       "      <td>train_Client_0</td>\n",
       "      <td>11</td>\n",
       "      <td>0</td>\n",
       "      <td>29/3/2013</td>\n",
       "      <td>11</td>\n",
       "      <td>1335667.0</td>\n",
       "      <td>0</td>\n",
       "      <td>...</td>\n",
       "      <td>6</td>\n",
       "      <td>0</td>\n",
       "      <td>12294</td>\n",
       "      <td>13678</td>\n",
       "      <td>4</td>\n",
       "      <td>ELEC</td>\n",
       "      <td>1</td>\n",
       "      <td>1200</td>\n",
       "      <td>184</td>\n",
       "      <td>0</td>\n",
       "    </tr>\n",
       "    <tr>\n",
       "      <th>2</th>\n",
       "      <td>101</td>\n",
       "      <td>31/12/1994</td>\n",
       "      <td>60</td>\n",
       "      <td>train_Client_0</td>\n",
       "      <td>11</td>\n",
       "      <td>0</td>\n",
       "      <td>23/3/2015</td>\n",
       "      <td>11</td>\n",
       "      <td>1335667.0</td>\n",
       "      <td>0</td>\n",
       "      <td>...</td>\n",
       "      <td>8</td>\n",
       "      <td>0</td>\n",
       "      <td>14624</td>\n",
       "      <td>14747</td>\n",
       "      <td>4</td>\n",
       "      <td>ELEC</td>\n",
       "      <td>1</td>\n",
       "      <td>123</td>\n",
       "      <td>0</td>\n",
       "      <td>0</td>\n",
       "    </tr>\n",
       "    <tr>\n",
       "      <th>3</th>\n",
       "      <td>101</td>\n",
       "      <td>31/12/1994</td>\n",
       "      <td>60</td>\n",
       "      <td>train_Client_0</td>\n",
       "      <td>11</td>\n",
       "      <td>0</td>\n",
       "      <td>13/7/2015</td>\n",
       "      <td>11</td>\n",
       "      <td>1335667.0</td>\n",
       "      <td>0</td>\n",
       "      <td>...</td>\n",
       "      <td>8</td>\n",
       "      <td>0</td>\n",
       "      <td>14747</td>\n",
       "      <td>14849</td>\n",
       "      <td>4</td>\n",
       "      <td>ELEC</td>\n",
       "      <td>1</td>\n",
       "      <td>102</td>\n",
       "      <td>0</td>\n",
       "      <td>0</td>\n",
       "    </tr>\n",
       "    <tr>\n",
       "      <th>4</th>\n",
       "      <td>101</td>\n",
       "      <td>31/12/1994</td>\n",
       "      <td>60</td>\n",
       "      <td>train_Client_0</td>\n",
       "      <td>11</td>\n",
       "      <td>0</td>\n",
       "      <td>17/11/2016</td>\n",
       "      <td>11</td>\n",
       "      <td>1335667.0</td>\n",
       "      <td>0</td>\n",
       "      <td>...</td>\n",
       "      <td>9</td>\n",
       "      <td>0</td>\n",
       "      <td>15066</td>\n",
       "      <td>15638</td>\n",
       "      <td>12</td>\n",
       "      <td>ELEC</td>\n",
       "      <td>1</td>\n",
       "      <td>572</td>\n",
       "      <td>0</td>\n",
       "      <td>0</td>\n",
       "    </tr>\n",
       "  </tbody>\n",
       "</table>\n",
       "<p>5 rows × 21 columns</p>\n",
       "</div>"
      ],
      "text/plain": [
       "   region      date_x  dis              id  catg  target      date_y  \\\n",
       "0     101  31/12/1994   60  train_Client_0    11       0   24/3/2014   \n",
       "1     101  31/12/1994   60  train_Client_0    11       0   29/3/2013   \n",
       "2     101  31/12/1994   60  train_Client_0    11       0   23/3/2015   \n",
       "3     101  31/12/1994   60  train_Client_0    11       0   13/7/2015   \n",
       "4     101  31/12/1994   60  train_Client_0    11       0  17/11/2016   \n",
       "\n",
       "   tarif_type  counter_number  counter_statue  ...  reading_remarque  \\\n",
       "0          11       1335667.0               0  ...                 8   \n",
       "1          11       1335667.0               0  ...                 6   \n",
       "2          11       1335667.0               0  ...                 8   \n",
       "3          11       1335667.0               0  ...                 8   \n",
       "4          11       1335667.0               0  ...                 9   \n",
       "\n",
       "   consommation_level_4  old_index  new_index  months_number  counter_type  \\\n",
       "0                     0      14302      14384              4          ELEC   \n",
       "1                     0      12294      13678              4          ELEC   \n",
       "2                     0      14624      14747              4          ELEC   \n",
       "3                     0      14747      14849              4          ELEC   \n",
       "4                     0      15066      15638             12          ELEC   \n",
       "\n",
       "  counter_coefficient  consommation_level_1  consommation_level_2  \\\n",
       "0                   1                    82                     0   \n",
       "1                   1                  1200                   184   \n",
       "2                   1                   123                     0   \n",
       "3                   1                   102                     0   \n",
       "4                   1                   572                     0   \n",
       "\n",
       "   consommation_level_3  \n",
       "0                     0  \n",
       "1                     0  \n",
       "2                     0  \n",
       "3                     0  \n",
       "4                     0  \n",
       "\n",
       "[5 rows x 21 columns]"
      ]
     },
     "execution_count": 3,
     "metadata": {},
     "output_type": "execute_result"
    }
   ],
   "source": [
    "combined_df.head()"
   ]
  },
  {
   "cell_type": "code",
   "execution_count": 4,
   "metadata": {},
   "outputs": [
    {
     "data": {
      "text/html": [
       "<div>\n",
       "<style scoped>\n",
       "    .dataframe tbody tr th:only-of-type {\n",
       "        vertical-align: middle;\n",
       "    }\n",
       "\n",
       "    .dataframe tbody tr th {\n",
       "        vertical-align: top;\n",
       "    }\n",
       "\n",
       "    .dataframe thead th {\n",
       "        text-align: right;\n",
       "    }\n",
       "</style>\n",
       "<table border=\"1\" class=\"dataframe\">\n",
       "  <thead>\n",
       "    <tr style=\"text-align: right;\">\n",
       "      <th></th>\n",
       "      <th>region</th>\n",
       "      <th>dis</th>\n",
       "      <th>catg</th>\n",
       "      <th>target</th>\n",
       "      <th>tarif_type</th>\n",
       "      <th>counter_number</th>\n",
       "      <th>counter_statue</th>\n",
       "      <th>counter_code</th>\n",
       "      <th>reading_remarque</th>\n",
       "      <th>consommation_level_4</th>\n",
       "      <th>old_index</th>\n",
       "      <th>new_index</th>\n",
       "      <th>months_number</th>\n",
       "      <th>counter_coefficient</th>\n",
       "      <th>consommation_level_1</th>\n",
       "      <th>consommation_level_2</th>\n",
       "      <th>consommation_level_3</th>\n",
       "    </tr>\n",
       "  </thead>\n",
       "  <tbody>\n",
       "    <tr>\n",
       "      <th>count</th>\n",
       "      <td>500651.000000</td>\n",
       "      <td>500651.000000</td>\n",
       "      <td>500651.000000</td>\n",
       "      <td>500651.000000</td>\n",
       "      <td>500651.000000</td>\n",
       "      <td>5.006510e+05</td>\n",
       "      <td>500651.000000</td>\n",
       "      <td>500651.000000</td>\n",
       "      <td>500651.000000</td>\n",
       "      <td>500651.000000</td>\n",
       "      <td>5.006510e+05</td>\n",
       "      <td>5.006510e+05</td>\n",
       "      <td>500651.000000</td>\n",
       "      <td>500651.000000</td>\n",
       "      <td>500651.000000</td>\n",
       "      <td>500651.000000</td>\n",
       "      <td>500651.000000</td>\n",
       "    </tr>\n",
       "    <tr>\n",
       "      <th>mean</th>\n",
       "      <td>204.746922</td>\n",
       "      <td>63.519156</td>\n",
       "      <td>11.353871</td>\n",
       "      <td>0.062644</td>\n",
       "      <td>16.108279</td>\n",
       "      <td>1.951034e+11</td>\n",
       "      <td>0.050217</td>\n",
       "      <td>204.390755</td>\n",
       "      <td>7.463710</td>\n",
       "      <td>64.393150</td>\n",
       "      <td>1.575969e+04</td>\n",
       "      <td>1.639037e+04</td>\n",
       "      <td>22.744289</td>\n",
       "      <td>1.000154</td>\n",
       "      <td>443.065463</td>\n",
       "      <td>120.508706</td>\n",
       "      <td>28.196772</td>\n",
       "    </tr>\n",
       "    <tr>\n",
       "      <th>std</th>\n",
       "      <td>104.620488</td>\n",
       "      <td>3.388720</td>\n",
       "      <td>3.661420</td>\n",
       "      <td>0.242323</td>\n",
       "      <td>11.145881</td>\n",
       "      <td>2.071552e+12</td>\n",
       "      <td>0.396153</td>\n",
       "      <td>121.204514</td>\n",
       "      <td>1.374409</td>\n",
       "      <td>1230.465569</td>\n",
       "      <td>2.975733e+04</td>\n",
       "      <td>3.053707e+04</td>\n",
       "      <td>1670.624818</td>\n",
       "      <td>0.047150</td>\n",
       "      <td>592.249623</td>\n",
       "      <td>1396.817086</td>\n",
       "      <td>214.020756</td>\n",
       "    </tr>\n",
       "    <tr>\n",
       "      <th>min</th>\n",
       "      <td>101.000000</td>\n",
       "      <td>60.000000</td>\n",
       "      <td>11.000000</td>\n",
       "      <td>0.000000</td>\n",
       "      <td>9.000000</td>\n",
       "      <td>0.000000e+00</td>\n",
       "      <td>0.000000</td>\n",
       "      <td>5.000000</td>\n",
       "      <td>6.000000</td>\n",
       "      <td>0.000000</td>\n",
       "      <td>0.000000e+00</td>\n",
       "      <td>0.000000e+00</td>\n",
       "      <td>1.000000</td>\n",
       "      <td>1.000000</td>\n",
       "      <td>0.000000</td>\n",
       "      <td>0.000000</td>\n",
       "      <td>0.000000</td>\n",
       "    </tr>\n",
       "    <tr>\n",
       "      <th>25%</th>\n",
       "      <td>101.000000</td>\n",
       "      <td>62.000000</td>\n",
       "      <td>11.000000</td>\n",
       "      <td>0.000000</td>\n",
       "      <td>11.000000</td>\n",
       "      <td>1.477220e+05</td>\n",
       "      <td>0.000000</td>\n",
       "      <td>202.000000</td>\n",
       "      <td>6.000000</td>\n",
       "      <td>0.000000</td>\n",
       "      <td>1.799000e+03</td>\n",
       "      <td>2.165000e+03</td>\n",
       "      <td>4.000000</td>\n",
       "      <td>1.000000</td>\n",
       "      <td>99.000000</td>\n",
       "      <td>0.000000</td>\n",
       "      <td>0.000000</td>\n",
       "    </tr>\n",
       "    <tr>\n",
       "      <th>50%</th>\n",
       "      <td>107.000000</td>\n",
       "      <td>62.000000</td>\n",
       "      <td>11.000000</td>\n",
       "      <td>0.000000</td>\n",
       "      <td>11.000000</td>\n",
       "      <td>4.857010e+05</td>\n",
       "      <td>0.000000</td>\n",
       "      <td>203.000000</td>\n",
       "      <td>8.000000</td>\n",
       "      <td>0.000000</td>\n",
       "      <td>7.876000e+03</td>\n",
       "      <td>8.438000e+03</td>\n",
       "      <td>4.000000</td>\n",
       "      <td>1.000000</td>\n",
       "      <td>321.000000</td>\n",
       "      <td>0.000000</td>\n",
       "      <td>0.000000</td>\n",
       "    </tr>\n",
       "    <tr>\n",
       "      <th>75%</th>\n",
       "      <td>307.000000</td>\n",
       "      <td>69.000000</td>\n",
       "      <td>11.000000</td>\n",
       "      <td>0.000000</td>\n",
       "      <td>11.000000</td>\n",
       "      <td>1.008740e+06</td>\n",
       "      <td>0.000000</td>\n",
       "      <td>207.000000</td>\n",
       "      <td>9.000000</td>\n",
       "      <td>0.000000</td>\n",
       "      <td>2.092750e+04</td>\n",
       "      <td>2.164500e+04</td>\n",
       "      <td>4.000000</td>\n",
       "      <td>1.000000</td>\n",
       "      <td>661.000000</td>\n",
       "      <td>0.000000</td>\n",
       "      <td>0.000000</td>\n",
       "    </tr>\n",
       "    <tr>\n",
       "      <th>max</th>\n",
       "      <td>399.000000</td>\n",
       "      <td>69.000000</td>\n",
       "      <td>51.000000</td>\n",
       "      <td>1.000000</td>\n",
       "      <td>45.000000</td>\n",
       "      <td>2.740000e+13</td>\n",
       "      <td>5.000000</td>\n",
       "      <td>600.000000</td>\n",
       "      <td>9.000000</td>\n",
       "      <td>343568.000000</td>\n",
       "      <td>2.800280e+06</td>\n",
       "      <td>2.870972e+06</td>\n",
       "      <td>231602.000000</td>\n",
       "      <td>20.000000</td>\n",
       "      <td>98889.000000</td>\n",
       "      <td>819886.000000</td>\n",
       "      <td>45360.000000</td>\n",
       "    </tr>\n",
       "  </tbody>\n",
       "</table>\n",
       "</div>"
      ],
      "text/plain": [
       "              region            dis           catg         target  \\\n",
       "count  500651.000000  500651.000000  500651.000000  500651.000000   \n",
       "mean      204.746922      63.519156      11.353871       0.062644   \n",
       "std       104.620488       3.388720       3.661420       0.242323   \n",
       "min       101.000000      60.000000      11.000000       0.000000   \n",
       "25%       101.000000      62.000000      11.000000       0.000000   \n",
       "50%       107.000000      62.000000      11.000000       0.000000   \n",
       "75%       307.000000      69.000000      11.000000       0.000000   \n",
       "max       399.000000      69.000000      51.000000       1.000000   \n",
       "\n",
       "          tarif_type  counter_number  counter_statue   counter_code  \\\n",
       "count  500651.000000    5.006510e+05   500651.000000  500651.000000   \n",
       "mean       16.108279    1.951034e+11        0.050217     204.390755   \n",
       "std        11.145881    2.071552e+12        0.396153     121.204514   \n",
       "min         9.000000    0.000000e+00        0.000000       5.000000   \n",
       "25%        11.000000    1.477220e+05        0.000000     202.000000   \n",
       "50%        11.000000    4.857010e+05        0.000000     203.000000   \n",
       "75%        11.000000    1.008740e+06        0.000000     207.000000   \n",
       "max        45.000000    2.740000e+13        5.000000     600.000000   \n",
       "\n",
       "       reading_remarque  consommation_level_4     old_index     new_index  \\\n",
       "count     500651.000000         500651.000000  5.006510e+05  5.006510e+05   \n",
       "mean           7.463710             64.393150  1.575969e+04  1.639037e+04   \n",
       "std            1.374409           1230.465569  2.975733e+04  3.053707e+04   \n",
       "min            6.000000              0.000000  0.000000e+00  0.000000e+00   \n",
       "25%            6.000000              0.000000  1.799000e+03  2.165000e+03   \n",
       "50%            8.000000              0.000000  7.876000e+03  8.438000e+03   \n",
       "75%            9.000000              0.000000  2.092750e+04  2.164500e+04   \n",
       "max            9.000000         343568.000000  2.800280e+06  2.870972e+06   \n",
       "\n",
       "       months_number  counter_coefficient  consommation_level_1  \\\n",
       "count  500651.000000        500651.000000         500651.000000   \n",
       "mean       22.744289             1.000154            443.065463   \n",
       "std      1670.624818             0.047150            592.249623   \n",
       "min         1.000000             1.000000              0.000000   \n",
       "25%         4.000000             1.000000             99.000000   \n",
       "50%         4.000000             1.000000            321.000000   \n",
       "75%         4.000000             1.000000            661.000000   \n",
       "max    231602.000000            20.000000          98889.000000   \n",
       "\n",
       "       consommation_level_2  consommation_level_3  \n",
       "count         500651.000000         500651.000000  \n",
       "mean             120.508706             28.196772  \n",
       "std             1396.817086            214.020756  \n",
       "min                0.000000              0.000000  \n",
       "25%                0.000000              0.000000  \n",
       "50%                0.000000              0.000000  \n",
       "75%                0.000000              0.000000  \n",
       "max           819886.000000          45360.000000  "
      ]
     },
     "execution_count": 4,
     "metadata": {},
     "output_type": "execute_result"
    }
   ],
   "source": [
    "combined_df.describe()\n"
   ]
  },
  {
   "cell_type": "code",
   "execution_count": 5,
   "metadata": {},
   "outputs": [
    {
     "data": {
      "text/html": [
       "<div>\n",
       "<style scoped>\n",
       "    .dataframe tbody tr th:only-of-type {\n",
       "        vertical-align: middle;\n",
       "    }\n",
       "\n",
       "    .dataframe tbody tr th {\n",
       "        vertical-align: top;\n",
       "    }\n",
       "\n",
       "    .dataframe thead th {\n",
       "        text-align: right;\n",
       "    }\n",
       "</style>\n",
       "<table border=\"1\" class=\"dataframe\">\n",
       "  <thead>\n",
       "    <tr style=\"text-align: right;\">\n",
       "      <th></th>\n",
       "      <th>region</th>\n",
       "      <th>date_x</th>\n",
       "      <th>dis</th>\n",
       "      <th>id</th>\n",
       "      <th>catg</th>\n",
       "      <th>target</th>\n",
       "      <th>date_y</th>\n",
       "      <th>tarif_type</th>\n",
       "      <th>counter_number</th>\n",
       "      <th>counter_statue</th>\n",
       "      <th>...</th>\n",
       "      <th>reading_remarque</th>\n",
       "      <th>consommation_level_4</th>\n",
       "      <th>old_index</th>\n",
       "      <th>new_index</th>\n",
       "      <th>months_number</th>\n",
       "      <th>counter_type</th>\n",
       "      <th>counter_coefficient</th>\n",
       "      <th>consommation_level_1</th>\n",
       "      <th>consommation_level_2</th>\n",
       "      <th>consommation_level_3</th>\n",
       "    </tr>\n",
       "  </thead>\n",
       "  <tbody>\n",
       "    <tr>\n",
       "      <th>0</th>\n",
       "      <td>101</td>\n",
       "      <td>31/12/1994</td>\n",
       "      <td>60</td>\n",
       "      <td>train_Client_0</td>\n",
       "      <td>11</td>\n",
       "      <td>0</td>\n",
       "      <td>24/3/2014</td>\n",
       "      <td>11</td>\n",
       "      <td>1335667.0</td>\n",
       "      <td>0</td>\n",
       "      <td>...</td>\n",
       "      <td>8</td>\n",
       "      <td>0</td>\n",
       "      <td>14302</td>\n",
       "      <td>14384</td>\n",
       "      <td>4</td>\n",
       "      <td>ELEC</td>\n",
       "      <td>1</td>\n",
       "      <td>82</td>\n",
       "      <td>0</td>\n",
       "      <td>0</td>\n",
       "    </tr>\n",
       "    <tr>\n",
       "      <th>1</th>\n",
       "      <td>101</td>\n",
       "      <td>31/12/1994</td>\n",
       "      <td>60</td>\n",
       "      <td>train_Client_0</td>\n",
       "      <td>11</td>\n",
       "      <td>0</td>\n",
       "      <td>29/3/2013</td>\n",
       "      <td>11</td>\n",
       "      <td>1335667.0</td>\n",
       "      <td>0</td>\n",
       "      <td>...</td>\n",
       "      <td>6</td>\n",
       "      <td>0</td>\n",
       "      <td>12294</td>\n",
       "      <td>13678</td>\n",
       "      <td>4</td>\n",
       "      <td>ELEC</td>\n",
       "      <td>1</td>\n",
       "      <td>1200</td>\n",
       "      <td>184</td>\n",
       "      <td>0</td>\n",
       "    </tr>\n",
       "    <tr>\n",
       "      <th>2</th>\n",
       "      <td>101</td>\n",
       "      <td>31/12/1994</td>\n",
       "      <td>60</td>\n",
       "      <td>train_Client_0</td>\n",
       "      <td>11</td>\n",
       "      <td>0</td>\n",
       "      <td>23/3/2015</td>\n",
       "      <td>11</td>\n",
       "      <td>1335667.0</td>\n",
       "      <td>0</td>\n",
       "      <td>...</td>\n",
       "      <td>8</td>\n",
       "      <td>0</td>\n",
       "      <td>14624</td>\n",
       "      <td>14747</td>\n",
       "      <td>4</td>\n",
       "      <td>ELEC</td>\n",
       "      <td>1</td>\n",
       "      <td>123</td>\n",
       "      <td>0</td>\n",
       "      <td>0</td>\n",
       "    </tr>\n",
       "    <tr>\n",
       "      <th>3</th>\n",
       "      <td>101</td>\n",
       "      <td>31/12/1994</td>\n",
       "      <td>60</td>\n",
       "      <td>train_Client_0</td>\n",
       "      <td>11</td>\n",
       "      <td>0</td>\n",
       "      <td>13/7/2015</td>\n",
       "      <td>11</td>\n",
       "      <td>1335667.0</td>\n",
       "      <td>0</td>\n",
       "      <td>...</td>\n",
       "      <td>8</td>\n",
       "      <td>0</td>\n",
       "      <td>14747</td>\n",
       "      <td>14849</td>\n",
       "      <td>4</td>\n",
       "      <td>ELEC</td>\n",
       "      <td>1</td>\n",
       "      <td>102</td>\n",
       "      <td>0</td>\n",
       "      <td>0</td>\n",
       "    </tr>\n",
       "    <tr>\n",
       "      <th>4</th>\n",
       "      <td>101</td>\n",
       "      <td>31/12/1994</td>\n",
       "      <td>60</td>\n",
       "      <td>train_Client_0</td>\n",
       "      <td>11</td>\n",
       "      <td>0</td>\n",
       "      <td>17/11/2016</td>\n",
       "      <td>11</td>\n",
       "      <td>1335667.0</td>\n",
       "      <td>0</td>\n",
       "      <td>...</td>\n",
       "      <td>9</td>\n",
       "      <td>0</td>\n",
       "      <td>15066</td>\n",
       "      <td>15638</td>\n",
       "      <td>12</td>\n",
       "      <td>ELEC</td>\n",
       "      <td>1</td>\n",
       "      <td>572</td>\n",
       "      <td>0</td>\n",
       "      <td>0</td>\n",
       "    </tr>\n",
       "  </tbody>\n",
       "</table>\n",
       "<p>5 rows × 21 columns</p>\n",
       "</div>"
      ],
      "text/plain": [
       "   region      date_x  dis              id  catg  target      date_y  \\\n",
       "0     101  31/12/1994   60  train_Client_0    11       0   24/3/2014   \n",
       "1     101  31/12/1994   60  train_Client_0    11       0   29/3/2013   \n",
       "2     101  31/12/1994   60  train_Client_0    11       0   23/3/2015   \n",
       "3     101  31/12/1994   60  train_Client_0    11       0   13/7/2015   \n",
       "4     101  31/12/1994   60  train_Client_0    11       0  17/11/2016   \n",
       "\n",
       "   tarif_type  counter_number  counter_statue  ...  reading_remarque  \\\n",
       "0          11       1335667.0               0  ...                 8   \n",
       "1          11       1335667.0               0  ...                 6   \n",
       "2          11       1335667.0               0  ...                 8   \n",
       "3          11       1335667.0               0  ...                 8   \n",
       "4          11       1335667.0               0  ...                 9   \n",
       "\n",
       "   consommation_level_4  old_index  new_index  months_number  counter_type  \\\n",
       "0                     0      14302      14384              4          ELEC   \n",
       "1                     0      12294      13678              4          ELEC   \n",
       "2                     0      14624      14747              4          ELEC   \n",
       "3                     0      14747      14849              4          ELEC   \n",
       "4                     0      15066      15638             12          ELEC   \n",
       "\n",
       "  counter_coefficient  consommation_level_1  consommation_level_2  \\\n",
       "0                   1                    82                     0   \n",
       "1                   1                  1200                   184   \n",
       "2                   1                   123                     0   \n",
       "3                   1                   102                     0   \n",
       "4                   1                   572                     0   \n",
       "\n",
       "   consommation_level_3  \n",
       "0                     0  \n",
       "1                     0  \n",
       "2                     0  \n",
       "3                     0  \n",
       "4                     0  \n",
       "\n",
       "[5 rows x 21 columns]"
      ]
     },
     "execution_count": 5,
     "metadata": {},
     "output_type": "execute_result"
    }
   ],
   "source": [
    "combined_df.head()\n"
   ]
  },
  {
   "cell_type": "code",
   "execution_count": 6,
   "metadata": {},
   "outputs": [
    {
     "name": "stdout",
     "output_type": "stream",
     "text": [
      "Length of dataset: 500651\n",
      "Number of datapoints in each column: \n",
      "region                  500651\n",
      "date_x                  500651\n",
      "dis                     500651\n",
      "id                      500651\n",
      "catg                    500651\n",
      "target                  500651\n",
      "date_y                  500651\n",
      "tarif_type              500651\n",
      "counter_number          500651\n",
      "counter_statue          500651\n",
      "counter_code            500651\n",
      "reading_remarque        500651\n",
      "consommation_level_4    500651\n",
      "old_index               500651\n",
      "new_index               500651\n",
      "months_number           500651\n",
      "counter_type            500651\n",
      "counter_coefficient     500651\n",
      "consommation_level_1    500651\n",
      "consommation_level_2    500651\n",
      "consommation_level_3    500651\n",
      "dtype: int64 \n",
      "\n"
     ]
    }
   ],
   "source": [
    "print(f\"Length of dataset: {len(combined_df)}\")\n",
    "print(f\"Number of datapoints in each column: \\n{combined_df.count()} \\n\")"
   ]
  },
  {
   "cell_type": "code",
   "execution_count": 7,
   "metadata": {},
   "outputs": [
    {
     "name": "stdout",
     "output_type": "stream",
     "text": [
      "31363\n",
      "proportion of fraud: 0.06264443694310008\n"
     ]
    }
   ],
   "source": [
    "number_of_fraud = sum(combined_df[\"target\"] == 1)\n",
    "print(number_of_fraud)\n",
    "print(f\"proportion of fraud: {number_of_fraud/len(combined_df)}\")"
   ]
  },
  {
   "cell_type": "markdown",
   "metadata": {},
   "source": [
    "#### We have created 3 new variables, described as such:\n",
    "##### delta_start_invoice: diff between join and transaction date\n",
    "##### delta_index: diff between old and new index\n",
    "##### delta_transactions: diff between transactions over the same client\n"
   ]
  },
  {
   "cell_type": "code",
   "execution_count": 8,
   "metadata": {},
   "outputs": [
    {
     "data": {
      "text/html": [
       "<div>\n",
       "<style scoped>\n",
       "    .dataframe tbody tr th:only-of-type {\n",
       "        vertical-align: middle;\n",
       "    }\n",
       "\n",
       "    .dataframe tbody tr th {\n",
       "        vertical-align: top;\n",
       "    }\n",
       "\n",
       "    .dataframe thead th {\n",
       "        text-align: right;\n",
       "    }\n",
       "</style>\n",
       "<table border=\"1\" class=\"dataframe\">\n",
       "  <thead>\n",
       "    <tr style=\"text-align: right;\">\n",
       "      <th></th>\n",
       "      <th>join_date</th>\n",
       "      <th>transaction_date</th>\n",
       "      <th>id</th>\n",
       "      <th>delta_start_invoice</th>\n",
       "      <th>delta_transactions</th>\n",
       "    </tr>\n",
       "  </thead>\n",
       "  <tbody>\n",
       "    <tr>\n",
       "      <th>22</th>\n",
       "      <td>1994-12-31</td>\n",
       "      <td>2005-10-17</td>\n",
       "      <td>train_Client_0</td>\n",
       "      <td>3943</td>\n",
       "      <td>0.0</td>\n",
       "    </tr>\n",
       "    <tr>\n",
       "      <th>23</th>\n",
       "      <td>1994-12-31</td>\n",
       "      <td>2006-02-24</td>\n",
       "      <td>train_Client_0</td>\n",
       "      <td>4073</td>\n",
       "      <td>130.0</td>\n",
       "    </tr>\n",
       "    <tr>\n",
       "      <th>24</th>\n",
       "      <td>1994-12-31</td>\n",
       "      <td>2006-06-23</td>\n",
       "      <td>train_Client_0</td>\n",
       "      <td>4192</td>\n",
       "      <td>119.0</td>\n",
       "    </tr>\n",
       "    <tr>\n",
       "      <th>25</th>\n",
       "      <td>1994-12-31</td>\n",
       "      <td>2006-10-18</td>\n",
       "      <td>train_Client_0</td>\n",
       "      <td>4309</td>\n",
       "      <td>117.0</td>\n",
       "    </tr>\n",
       "    <tr>\n",
       "      <th>28</th>\n",
       "      <td>1994-12-31</td>\n",
       "      <td>2007-02-26</td>\n",
       "      <td>train_Client_0</td>\n",
       "      <td>4440</td>\n",
       "      <td>131.0</td>\n",
       "    </tr>\n",
       "  </tbody>\n",
       "</table>\n",
       "</div>"
      ],
      "text/plain": [
       "    join_date transaction_date              id  delta_start_invoice  \\\n",
       "22 1994-12-31       2005-10-17  train_Client_0                 3943   \n",
       "23 1994-12-31       2006-02-24  train_Client_0                 4073   \n",
       "24 1994-12-31       2006-06-23  train_Client_0                 4192   \n",
       "25 1994-12-31       2006-10-18  train_Client_0                 4309   \n",
       "28 1994-12-31       2007-02-26  train_Client_0                 4440   \n",
       "\n",
       "    delta_transactions  \n",
       "22                 0.0  \n",
       "23               130.0  \n",
       "24               119.0  \n",
       "25               117.0  \n",
       "28               131.0  "
      ]
     },
     "execution_count": 8,
     "metadata": {},
     "output_type": "execute_result"
    }
   ],
   "source": [
    "\n",
    "dates = {'join_date': combined_df['date_x'], 'transaction_date': combined_df['date_y'], 'id': combined_df['id']}\n",
    "dates_df = pd.DataFrame(dates)\n",
    "\n",
    "dates_df['join_date'] = pd.to_datetime(dates_df['join_date'] , format='%d/%m/%Y')\n",
    "dates_df['transaction_date'] = pd.to_datetime(dates_df['transaction_date'], format='%d/%m/%Y')\n",
    "\n",
    "# Calculate the difference in days between transaction and join date\n",
    "dates_df['delta_start_invoice'] = (dates_df['transaction_date']- dates_df['join_date']).dt.days\n",
    "\n",
    "# Create new delta_transactions (diff between transaction dates for each client)\n",
    "dates_df = dates_df.sort_values(['id', 'delta_start_invoice'])\n",
    "dates_df['delta_transactions'] = dates_df.groupby('id')['delta_start_invoice'].diff().fillna(0)\n",
    "\n",
    "dates_df.head()\n",
    "\n",
    "\n"
   ]
  },
  {
   "cell_type": "markdown",
   "metadata": {},
   "source": [
    "#### add new delta_start_invoice, delta_index and consommation_sum to combined_df"
   ]
  },
  {
   "cell_type": "code",
   "execution_count": 9,
   "metadata": {},
   "outputs": [],
   "source": [
    "combined_df['delta_index'] = combined_df['new_index'] - combined_df['old_index']\n",
    "combined_df['delta_start_invoice'] = dates_df['delta_start_invoice']\n",
    "combined_df['delta_transactions'] = dates_df['delta_transactions']"
   ]
  },
  {
   "cell_type": "markdown",
   "metadata": {},
   "source": [
    "#### new dataframe for one-hot encoding categorical variables (dis, catg, region, tarif_type, counter_statue, counter_code, reading_remarque, counter_type)"
   ]
  },
  {
   "cell_type": "code",
   "execution_count": 10,
   "metadata": {},
   "outputs": [],
   "source": [
    "categorical_vars = ['dis', 'catg', 'region', 'tarif_type', 'counter_statue', 'counter_code', 'counter_type']\n",
    "categorical_df = pd.get_dummies(combined_df, columns=categorical_vars, prefix=categorical_vars)\n",
    "categorical_df = categorical_df.groupby('id').agg({col: 'max' for col in categorical_df.columns if col != 'id'})\n",
    "\n"
   ]
  },
  {
   "cell_type": "markdown",
   "metadata": {},
   "source": [
    "#### Agg function to group the transactions with each client"
   ]
  },
  {
   "cell_type": "code",
   "execution_count": 11,
   "metadata": {},
   "outputs": [
    {
     "data": {
      "text/html": [
       "<div>\n",
       "<style scoped>\n",
       "    .dataframe tbody tr th:only-of-type {\n",
       "        vertical-align: middle;\n",
       "    }\n",
       "\n",
       "    .dataframe tbody tr th {\n",
       "        vertical-align: top;\n",
       "    }\n",
       "\n",
       "    .dataframe thead tr th {\n",
       "        text-align: left;\n",
       "    }\n",
       "\n",
       "    .dataframe thead tr:last-of-type th {\n",
       "        text-align: right;\n",
       "    }\n",
       "</style>\n",
       "<table border=\"1\" class=\"dataframe\">\n",
       "  <thead>\n",
       "    <tr>\n",
       "      <th></th>\n",
       "      <th colspan=\"4\" halign=\"left\">consommation_level_1</th>\n",
       "      <th colspan=\"4\" halign=\"left\">consommation_level_2</th>\n",
       "      <th colspan=\"2\" halign=\"left\">consommation_level_3</th>\n",
       "      <th>...</th>\n",
       "      <th colspan=\"2\" halign=\"left\">delta_index</th>\n",
       "      <th colspan=\"4\" halign=\"left\">delta_start_invoice</th>\n",
       "      <th colspan=\"4\" halign=\"left\">reading_remarque</th>\n",
       "    </tr>\n",
       "    <tr>\n",
       "      <th></th>\n",
       "      <th>sum</th>\n",
       "      <th>mean</th>\n",
       "      <th>median</th>\n",
       "      <th>std</th>\n",
       "      <th>sum</th>\n",
       "      <th>mean</th>\n",
       "      <th>median</th>\n",
       "      <th>std</th>\n",
       "      <th>sum</th>\n",
       "      <th>mean</th>\n",
       "      <th>...</th>\n",
       "      <th>median</th>\n",
       "      <th>std</th>\n",
       "      <th>sum</th>\n",
       "      <th>mean</th>\n",
       "      <th>median</th>\n",
       "      <th>std</th>\n",
       "      <th>sum</th>\n",
       "      <th>mean</th>\n",
       "      <th>median</th>\n",
       "      <th>std</th>\n",
       "    </tr>\n",
       "    <tr>\n",
       "      <th>id</th>\n",
       "      <th></th>\n",
       "      <th></th>\n",
       "      <th></th>\n",
       "      <th></th>\n",
       "      <th></th>\n",
       "      <th></th>\n",
       "      <th></th>\n",
       "      <th></th>\n",
       "      <th></th>\n",
       "      <th></th>\n",
       "      <th></th>\n",
       "      <th></th>\n",
       "      <th></th>\n",
       "      <th></th>\n",
       "      <th></th>\n",
       "      <th></th>\n",
       "      <th></th>\n",
       "      <th></th>\n",
       "      <th></th>\n",
       "      <th></th>\n",
       "      <th></th>\n",
       "    </tr>\n",
       "  </thead>\n",
       "  <tbody>\n",
       "    <tr>\n",
       "      <th>train_Client_0</th>\n",
       "      <td>12334</td>\n",
       "      <td>352.400000</td>\n",
       "      <td>267.0</td>\n",
       "      <td>310.343472</td>\n",
       "      <td>370</td>\n",
       "      <td>10.571429</td>\n",
       "      <td>0.0</td>\n",
       "      <td>43.568935</td>\n",
       "      <td>0</td>\n",
       "      <td>0.000000</td>\n",
       "      <td>...</td>\n",
       "      <td>267.0</td>\n",
       "      <td>341.553930</td>\n",
       "      <td>213142</td>\n",
       "      <td>6089.771429</td>\n",
       "      <td>6047.0</td>\n",
       "      <td>1358.574709</td>\n",
       "      <td>244</td>\n",
       "      <td>6.971429</td>\n",
       "      <td>6.0</td>\n",
       "      <td>1.248192</td>\n",
       "    </tr>\n",
       "    <tr>\n",
       "      <th>train_Client_1</th>\n",
       "      <td>20629</td>\n",
       "      <td>557.540541</td>\n",
       "      <td>520.0</td>\n",
       "      <td>197.935960</td>\n",
       "      <td>0</td>\n",
       "      <td>0.000000</td>\n",
       "      <td>0.0</td>\n",
       "      <td>0.000000</td>\n",
       "      <td>0</td>\n",
       "      <td>0.000000</td>\n",
       "      <td>...</td>\n",
       "      <td>520.0</td>\n",
       "      <td>197.935960</td>\n",
       "      <td>132603</td>\n",
       "      <td>3583.864865</td>\n",
       "      <td>3509.0</td>\n",
       "      <td>1457.748762</td>\n",
       "      <td>267</td>\n",
       "      <td>7.216216</td>\n",
       "      <td>6.0</td>\n",
       "      <td>1.377097</td>\n",
       "    </tr>\n",
       "    <tr>\n",
       "      <th>train_Client_10</th>\n",
       "      <td>14375</td>\n",
       "      <td>798.611111</td>\n",
       "      <td>655.5</td>\n",
       "      <td>513.841374</td>\n",
       "      <td>682</td>\n",
       "      <td>37.888889</td>\n",
       "      <td>0.0</td>\n",
       "      <td>160.748942</td>\n",
       "      <td>0</td>\n",
       "      <td>0.000000</td>\n",
       "      <td>...</td>\n",
       "      <td>655.5</td>\n",
       "      <td>646.808386</td>\n",
       "      <td>165982</td>\n",
       "      <td>9221.222222</td>\n",
       "      <td>8678.0</td>\n",
       "      <td>1526.789733</td>\n",
       "      <td>127</td>\n",
       "      <td>7.055556</td>\n",
       "      <td>6.0</td>\n",
       "      <td>1.258955</td>\n",
       "    </tr>\n",
       "    <tr>\n",
       "      <th>train_Client_100</th>\n",
       "      <td>24</td>\n",
       "      <td>1.200000</td>\n",
       "      <td>0.0</td>\n",
       "      <td>3.607011</td>\n",
       "      <td>0</td>\n",
       "      <td>0.000000</td>\n",
       "      <td>0.0</td>\n",
       "      <td>0.000000</td>\n",
       "      <td>0</td>\n",
       "      <td>0.000000</td>\n",
       "      <td>...</td>\n",
       "      <td>0.0</td>\n",
       "      <td>3.607011</td>\n",
       "      <td>91275</td>\n",
       "      <td>4563.750000</td>\n",
       "      <td>4545.5</td>\n",
       "      <td>774.520692</td>\n",
       "      <td>123</td>\n",
       "      <td>6.150000</td>\n",
       "      <td>6.0</td>\n",
       "      <td>0.670820</td>\n",
       "    </tr>\n",
       "    <tr>\n",
       "      <th>train_Client_1000</th>\n",
       "      <td>9292</td>\n",
       "      <td>663.714286</td>\n",
       "      <td>770.0</td>\n",
       "      <td>224.831365</td>\n",
       "      <td>1468</td>\n",
       "      <td>104.857143</td>\n",
       "      <td>0.0</td>\n",
       "      <td>167.155320</td>\n",
       "      <td>1643</td>\n",
       "      <td>117.357143</td>\n",
       "      <td>...</td>\n",
       "      <td>770.0</td>\n",
       "      <td>633.485669</td>\n",
       "      <td>13497</td>\n",
       "      <td>964.071429</td>\n",
       "      <td>1010.0</td>\n",
       "      <td>506.611437</td>\n",
       "      <td>124</td>\n",
       "      <td>8.857143</td>\n",
       "      <td>9.0</td>\n",
       "      <td>0.363137</td>\n",
       "    </tr>\n",
       "  </tbody>\n",
       "</table>\n",
       "<p>5 rows × 28 columns</p>\n",
       "</div>"
      ],
      "text/plain": [
       "                  consommation_level_1                                 \\\n",
       "                                   sum        mean median         std   \n",
       "id                                                                      \n",
       "train_Client_0                   12334  352.400000  267.0  310.343472   \n",
       "train_Client_1                   20629  557.540541  520.0  197.935960   \n",
       "train_Client_10                  14375  798.611111  655.5  513.841374   \n",
       "train_Client_100                    24    1.200000    0.0    3.607011   \n",
       "train_Client_1000                 9292  663.714286  770.0  224.831365   \n",
       "\n",
       "                  consommation_level_2                                 \\\n",
       "                                   sum        mean median         std   \n",
       "id                                                                      \n",
       "train_Client_0                     370   10.571429    0.0   43.568935   \n",
       "train_Client_1                       0    0.000000    0.0    0.000000   \n",
       "train_Client_10                    682   37.888889    0.0  160.748942   \n",
       "train_Client_100                     0    0.000000    0.0    0.000000   \n",
       "train_Client_1000                 1468  104.857143    0.0  167.155320   \n",
       "\n",
       "                  consommation_level_3              ... delta_index  \\\n",
       "                                   sum        mean  ...      median   \n",
       "id                                                  ...               \n",
       "train_Client_0                       0    0.000000  ...       267.0   \n",
       "train_Client_1                       0    0.000000  ...       520.0   \n",
       "train_Client_10                      0    0.000000  ...       655.5   \n",
       "train_Client_100                     0    0.000000  ...         0.0   \n",
       "train_Client_1000                 1643  117.357143  ...       770.0   \n",
       "\n",
       "                              delta_start_invoice                       \\\n",
       "                          std                 sum         mean  median   \n",
       "id                                                                       \n",
       "train_Client_0     341.553930              213142  6089.771429  6047.0   \n",
       "train_Client_1     197.935960              132603  3583.864865  3509.0   \n",
       "train_Client_10    646.808386              165982  9221.222222  8678.0   \n",
       "train_Client_100     3.607011               91275  4563.750000  4545.5   \n",
       "train_Client_1000  633.485669               13497   964.071429  1010.0   \n",
       "\n",
       "                               reading_remarque                             \n",
       "                           std              sum      mean median       std  \n",
       "id                                                                          \n",
       "train_Client_0     1358.574709              244  6.971429    6.0  1.248192  \n",
       "train_Client_1     1457.748762              267  7.216216    6.0  1.377097  \n",
       "train_Client_10    1526.789733              127  7.055556    6.0  1.258955  \n",
       "train_Client_100    774.520692              123  6.150000    6.0  0.670820  \n",
       "train_Client_1000   506.611437              124  8.857143    9.0  0.363137  \n",
       "\n",
       "[5 rows x 28 columns]"
      ]
     },
     "execution_count": 11,
     "metadata": {},
     "output_type": "execute_result"
    }
   ],
   "source": [
    "stats = ['sum', 'mean', 'median', 'std']\n",
    "\n",
    "selected_columns = ['consommation_level_1', \n",
    "                    'consommation_level_2', 'consommation_level_3', 'consommation_level_4',\n",
    "                    'delta_index', 'delta_start_invoice', 'id', 'reading_remarque']\n",
    "\n",
    "# Create a new dataframe with the desired aggregate functions\n",
    "numerical_df = combined_df[selected_columns].groupby('id').agg(stats)\n",
    "\n",
    "numerical_df.head()\n",
    "\n",
    "\n"
   ]
  },
  {
   "cell_type": "markdown",
   "metadata": {},
   "source": [
    "#### Combining numerical and cat dataframes"
   ]
  },
  {
   "cell_type": "code",
   "execution_count": 12,
   "metadata": {},
   "outputs": [
    {
     "name": "stdout",
     "output_type": "stream",
     "text": [
      "<class 'pandas.core.frame.DataFrame'>\n",
      "Index: 21652 entries, train_Client_0 to train_Client_128438\n",
      "Columns: 116 entries, ('consommation_level_1', 'sum') to counter_type_GAZ\n",
      "dtypes: bool(85), float64(22), int64(9)\n",
      "memory usage: 7.0+ MB\n"
     ]
    }
   ],
   "source": [
    "to_drop = ['region', 'date_x', 'dis', 'id', 'catg', 'target', 'date_y', 'tarif_type', 'counter_number', \n",
    "           'counter_statue', 'counter_code', 'reading_remarque', 'consommation_level_4', 'old_index',\n",
    "           'new_index', 'months_number', 'counter_type', 'counter_coefficient', 'consommation_level_1',\n",
    "           'consommation_level_2', 'consommation_level_3']\n",
    "\n",
    "client_summary = pd.concat([numerical_df, categorical_df], axis=1)\n",
    "\n",
    "# Identify existing columns in the DataFrame\n",
    "existing_columns = [col for col in to_drop if col in client_summary.columns]\n",
    "\n",
    "# Drop existing columns from the DataFrame\n",
    "client_summary = client_summary.drop(columns=existing_columns)\n",
    "\n",
    "client_summary.info()\n",
    "\n",
    "\n"
   ]
  },
  {
   "cell_type": "markdown",
   "metadata": {},
   "source": [
    "#### Add y variable"
   ]
  },
  {
   "cell_type": "code",
   "execution_count": 13,
   "metadata": {},
   "outputs": [
    {
     "data": {
      "text/plain": [
       "target\n",
       "0    20576\n",
       "1     1076\n",
       "Name: count, dtype: int64"
      ]
     },
     "execution_count": 13,
     "metadata": {},
     "output_type": "execute_result"
    }
   ],
   "source": [
    "client_summary['target'] = combined_df.groupby('id')['target'].apply(lambda x: 1 if x.any() else 0)\n",
    "client_summary['target'].value_counts()\n"
   ]
  },
  {
   "cell_type": "markdown",
   "metadata": {},
   "source": [
    "## Data Balancing"
   ]
  },
  {
   "cell_type": "markdown",
   "metadata": {},
   "source": [
    "#### original split without data balancing"
   ]
  },
  {
   "cell_type": "code",
   "execution_count": 28,
   "metadata": {},
   "outputs": [],
   "source": [
    "\n",
    "X = client_summary.drop('target', axis=1)\n",
    "\n",
    "# Flatten multi-level column names\n",
    "X.columns = [''.join(map(str, col)).strip() for col in X.columns.to_flat_index()]\n",
    "\n",
    "y = client_summary['target']\n",
    "\n",
    "X_train, X_test, y_train, y_test = train_test_split(X, y, test_size=0.2, random_state= seed)"
   ]
  },
  {
   "cell_type": "markdown",
   "metadata": {},
   "source": [
    "#### Due to the low proportion of fraud cases, we performed synthetic oversampling of fraud cases with SMOTE and undersampled non-fraud cases with Tomek's link with three different methods:\n",
    "#### 1) SMOTE + Tomek's Link"
   ]
  },
  {
   "cell_type": "code",
   "execution_count": 47,
   "metadata": {},
   "outputs": [
    {
     "data": {
      "text/html": [
       "<div>\n",
       "<style scoped>\n",
       "    .dataframe tbody tr th:only-of-type {\n",
       "        vertical-align: middle;\n",
       "    }\n",
       "\n",
       "    .dataframe tbody tr th {\n",
       "        vertical-align: top;\n",
       "    }\n",
       "\n",
       "    .dataframe thead th {\n",
       "        text-align: right;\n",
       "    }\n",
       "</style>\n",
       "<table border=\"1\" class=\"dataframe\">\n",
       "  <thead>\n",
       "    <tr style=\"text-align: right;\">\n",
       "      <th></th>\n",
       "      <th>consommation_level_1sum</th>\n",
       "      <th>consommation_level_1mean</th>\n",
       "      <th>consommation_level_1median</th>\n",
       "      <th>consommation_level_1std</th>\n",
       "      <th>consommation_level_2sum</th>\n",
       "      <th>consommation_level_2mean</th>\n",
       "      <th>consommation_level_2median</th>\n",
       "      <th>consommation_level_2std</th>\n",
       "      <th>consommation_level_3sum</th>\n",
       "      <th>consommation_level_3mean</th>\n",
       "      <th>...</th>\n",
       "      <th>counter_code_450</th>\n",
       "      <th>counter_code_453</th>\n",
       "      <th>counter_code_467</th>\n",
       "      <th>counter_code_483</th>\n",
       "      <th>counter_code_506</th>\n",
       "      <th>counter_code_532</th>\n",
       "      <th>counter_code_565</th>\n",
       "      <th>counter_code_600</th>\n",
       "      <th>counter_type_ELEC</th>\n",
       "      <th>counter_type_GAZ</th>\n",
       "    </tr>\n",
       "  </thead>\n",
       "  <tbody>\n",
       "    <tr>\n",
       "      <th>0</th>\n",
       "      <td>0.685554</td>\n",
       "      <td>-0.221794</td>\n",
       "      <td>-0.425497</td>\n",
       "      <td>0.028572</td>\n",
       "      <td>-0.201780</td>\n",
       "      <td>-0.225311</td>\n",
       "      <td>-0.205524</td>\n",
       "      <td>-0.130865</td>\n",
       "      <td>-0.463374</td>\n",
       "      <td>-0.407162</td>\n",
       "      <td>...</td>\n",
       "      <td>-0.011142</td>\n",
       "      <td>-0.040972</td>\n",
       "      <td>-0.037811</td>\n",
       "      <td>-0.033906</td>\n",
       "      <td>-0.035255</td>\n",
       "      <td>-0.007879</td>\n",
       "      <td>-0.007879</td>\n",
       "      <td>-0.011142</td>\n",
       "      <td>0.048943</td>\n",
       "      <td>1.177256</td>\n",
       "    </tr>\n",
       "    <tr>\n",
       "      <th>1</th>\n",
       "      <td>0.796658</td>\n",
       "      <td>0.197327</td>\n",
       "      <td>0.244187</td>\n",
       "      <td>0.327422</td>\n",
       "      <td>-0.307390</td>\n",
       "      <td>-0.270927</td>\n",
       "      <td>-0.205524</td>\n",
       "      <td>-0.192952</td>\n",
       "      <td>-0.463374</td>\n",
       "      <td>-0.407162</td>\n",
       "      <td>...</td>\n",
       "      <td>-0.011142</td>\n",
       "      <td>-0.040972</td>\n",
       "      <td>-0.037811</td>\n",
       "      <td>-0.033906</td>\n",
       "      <td>-0.035255</td>\n",
       "      <td>-0.007879</td>\n",
       "      <td>-0.007879</td>\n",
       "      <td>-0.011142</td>\n",
       "      <td>0.048943</td>\n",
       "      <td>-0.849433</td>\n",
       "    </tr>\n",
       "    <tr>\n",
       "      <th>2</th>\n",
       "      <td>0.355386</td>\n",
       "      <td>0.140101</td>\n",
       "      <td>0.195116</td>\n",
       "      <td>-0.169480</td>\n",
       "      <td>-0.288245</td>\n",
       "      <td>-0.257144</td>\n",
       "      <td>-0.205524</td>\n",
       "      <td>-0.168790</td>\n",
       "      <td>-0.463374</td>\n",
       "      <td>-0.407162</td>\n",
       "      <td>...</td>\n",
       "      <td>-0.011142</td>\n",
       "      <td>-0.040972</td>\n",
       "      <td>-0.037811</td>\n",
       "      <td>-0.033906</td>\n",
       "      <td>-0.035255</td>\n",
       "      <td>-0.007879</td>\n",
       "      <td>-0.007879</td>\n",
       "      <td>-0.011142</td>\n",
       "      <td>0.048943</td>\n",
       "      <td>-0.849433</td>\n",
       "    </tr>\n",
       "    <tr>\n",
       "      <th>3</th>\n",
       "      <td>-0.961451</td>\n",
       "      <td>-0.663271</td>\n",
       "      <td>-0.561166</td>\n",
       "      <td>-0.373705</td>\n",
       "      <td>-0.307390</td>\n",
       "      <td>-0.270927</td>\n",
       "      <td>-0.205524</td>\n",
       "      <td>-0.192952</td>\n",
       "      <td>-0.463374</td>\n",
       "      <td>-0.407162</td>\n",
       "      <td>...</td>\n",
       "      <td>-0.011142</td>\n",
       "      <td>-0.040972</td>\n",
       "      <td>-0.037811</td>\n",
       "      <td>-0.033906</td>\n",
       "      <td>-0.035255</td>\n",
       "      <td>-0.007879</td>\n",
       "      <td>-0.007879</td>\n",
       "      <td>-0.011142</td>\n",
       "      <td>0.048943</td>\n",
       "      <td>-0.849433</td>\n",
       "    </tr>\n",
       "    <tr>\n",
       "      <th>4</th>\n",
       "      <td>-0.052457</td>\n",
       "      <td>-0.539388</td>\n",
       "      <td>-0.786319</td>\n",
       "      <td>0.036666</td>\n",
       "      <td>-0.272099</td>\n",
       "      <td>-0.253990</td>\n",
       "      <td>-0.205524</td>\n",
       "      <td>-0.140615</td>\n",
       "      <td>-0.368899</td>\n",
       "      <td>-0.366908</td>\n",
       "      <td>...</td>\n",
       "      <td>-0.011142</td>\n",
       "      <td>-0.040972</td>\n",
       "      <td>-0.037811</td>\n",
       "      <td>-0.033906</td>\n",
       "      <td>-0.035255</td>\n",
       "      <td>-0.007879</td>\n",
       "      <td>-0.007879</td>\n",
       "      <td>-0.011142</td>\n",
       "      <td>0.048943</td>\n",
       "      <td>1.177256</td>\n",
       "    </tr>\n",
       "  </tbody>\n",
       "</table>\n",
       "<p>5 rows × 116 columns</p>\n",
       "</div>"
      ],
      "text/plain": [
       "   consommation_level_1sum  consommation_level_1mean  \\\n",
       "0                 0.685554                 -0.221794   \n",
       "1                 0.796658                  0.197327   \n",
       "2                 0.355386                  0.140101   \n",
       "3                -0.961451                 -0.663271   \n",
       "4                -0.052457                 -0.539388   \n",
       "\n",
       "   consommation_level_1median  consommation_level_1std  \\\n",
       "0                   -0.425497                 0.028572   \n",
       "1                    0.244187                 0.327422   \n",
       "2                    0.195116                -0.169480   \n",
       "3                   -0.561166                -0.373705   \n",
       "4                   -0.786319                 0.036666   \n",
       "\n",
       "   consommation_level_2sum  consommation_level_2mean  \\\n",
       "0                -0.201780                 -0.225311   \n",
       "1                -0.307390                 -0.270927   \n",
       "2                -0.288245                 -0.257144   \n",
       "3                -0.307390                 -0.270927   \n",
       "4                -0.272099                 -0.253990   \n",
       "\n",
       "   consommation_level_2median  consommation_level_2std  \\\n",
       "0                   -0.205524                -0.130865   \n",
       "1                   -0.205524                -0.192952   \n",
       "2                   -0.205524                -0.168790   \n",
       "3                   -0.205524                -0.192952   \n",
       "4                   -0.205524                -0.140615   \n",
       "\n",
       "   consommation_level_3sum  consommation_level_3mean  ...  counter_code_450  \\\n",
       "0                -0.463374                 -0.407162  ...         -0.011142   \n",
       "1                -0.463374                 -0.407162  ...         -0.011142   \n",
       "2                -0.463374                 -0.407162  ...         -0.011142   \n",
       "3                -0.463374                 -0.407162  ...         -0.011142   \n",
       "4                -0.368899                 -0.366908  ...         -0.011142   \n",
       "\n",
       "   counter_code_453  counter_code_467  counter_code_483  counter_code_506  \\\n",
       "0         -0.040972         -0.037811         -0.033906         -0.035255   \n",
       "1         -0.040972         -0.037811         -0.033906         -0.035255   \n",
       "2         -0.040972         -0.037811         -0.033906         -0.035255   \n",
       "3         -0.040972         -0.037811         -0.033906         -0.035255   \n",
       "4         -0.040972         -0.037811         -0.033906         -0.035255   \n",
       "\n",
       "   counter_code_532  counter_code_565  counter_code_600  counter_type_ELEC  \\\n",
       "0         -0.007879         -0.007879         -0.011142           0.048943   \n",
       "1         -0.007879         -0.007879         -0.011142           0.048943   \n",
       "2         -0.007879         -0.007879         -0.011142           0.048943   \n",
       "3         -0.007879         -0.007879         -0.011142           0.048943   \n",
       "4         -0.007879         -0.007879         -0.011142           0.048943   \n",
       "\n",
       "   counter_type_GAZ  \n",
       "0          1.177256  \n",
       "1         -0.849433  \n",
       "2         -0.849433  \n",
       "3         -0.849433  \n",
       "4          1.177256  \n",
       "\n",
       "[5 rows x 116 columns]"
      ]
     },
     "execution_count": 47,
     "metadata": {},
     "output_type": "execute_result"
    }
   ],
   "source": [
    "# Define the oversampling strategy using SMOTE and Tomek\n",
    "smote = SMOTE(sampling_strategy='auto')\n",
    "smote = SMOTE(random_state=seed)\n",
    "tomek = TomekLinks()\n",
    "\n",
    "\n",
    "X_train1, X_test1, y_train1, y_test1 = train_test_split(X, y, test_size=0.2, random_state= seed)\n",
    "\n",
    "\n",
    "# under and oversampling of data using Tomek and SMOTE\n",
    "X_train1, y_train1 = tomek.fit_resample(X_train1, y_train1)\n",
    "X_train1, y_train1 = smote.fit_resample(X_train1, y_train1)\n",
    "\n",
    "\n",
    "# Standardize the data separately to prevent leakage\n",
    "scaler = StandardScaler()\n",
    "X_train1_standardized = pd.DataFrame(scaler.fit_transform(X_train1), columns=X_train1.columns)\n",
    "X_test1_standardized = pd.DataFrame(scaler.transform(X_test1), columns=X_test1.columns)\n",
    "\n",
    "# Normalise the data\n",
    "scaler_minmax = MinMaxScaler()\n",
    "X_train1_normalized = pd.DataFrame(scaler_minmax.fit_transform(X_train1), columns=X_train1.columns)\n",
    "X_test1_normmalized = pd.DataFrame(scaler_minmax.transform(X_test1), columns=X_test1.columns)\n",
    "\n"
   ]
  },
  {
   "cell_type": "markdown",
   "metadata": {},
   "source": [
    "#### 2) SMOTE only"
   ]
  },
  {
   "cell_type": "code",
   "execution_count": 15,
   "metadata": {},
   "outputs": [],
   "source": [
    "X_train2, X_test2, y_train2, y_test2 = train_test_split(X, y, test_size=0.2, random_state=seed)\n",
    "\n",
    "# Oversampling of data using SMOTE\n",
    "X_train2, y_train2 = smote.fit_resample(X_train2, y_train2)\n",
    "\n",
    "# Standardize the data separately to prevent leakage\n",
    "scaler = StandardScaler()\n",
    "X_train2_standardized = pd.DataFrame(scaler.fit_transform(X_train2), columns=X_train2.columns)\n",
    "X_test2_standardized = pd.DataFrame(scaler.transform(X_test2), columns=X_test2.columns)"
   ]
  },
  {
   "cell_type": "markdown",
   "metadata": {},
   "source": [
    "#### 3) SMOTE + ENN\n",
    "\n"
   ]
  },
  {
   "cell_type": "code",
   "execution_count": 16,
   "metadata": {},
   "outputs": [],
   "source": [
    "# Define the ADASYN+ENN resampling strategy\n",
    "smote_enn = SMOTEENN(random_state=seed)\n",
    "\n",
    "X_train3, X_test3, y_train3, y_test3 = train_test_split(X, y, test_size=0.2, random_state=seed)\n",
    "\n",
    "# Resampling of data using ADASYN+ENN\n",
    "X_train3, y_train3 = smote_enn.fit_resample(X_train3, y_train3)\n",
    "\n",
    "# Standardize the data separately to prevent leakage\n",
    "scaler = StandardScaler()\n",
    "X_train3_standardized = pd.DataFrame(scaler.fit_transform(X_train3), columns=X_train3.columns)\n",
    "X_test3_standardized = pd.DataFrame(scaler.transform(X_test3), columns=X_test3.columns)"
   ]
  },
  {
   "cell_type": "code",
   "execution_count": 17,
   "metadata": {},
   "outputs": [],
   "source": [
    "# Change Bool to int\n",
    "for df in [X_train1_standardized, X_train2_standardized, X_train3_standardized,\n",
    "           X_test1_standardized, X_test2_standardized, X_test3_standardized]:\n",
    "    \n",
    "    df = df.astype({col: int for col in df.select_dtypes(include='bool').columns})"
   ]
  },
  {
   "cell_type": "code",
   "execution_count": 18,
   "metadata": {},
   "outputs": [
    {
     "name": "stdout",
     "output_type": "stream",
     "text": [
      "<class 'pandas.core.frame.DataFrame'>\n",
      "RangeIndex: 32222 entries, 0 to 32221\n",
      "Columns: 116 entries, consommation_level_1sum to counter_type_GAZ\n",
      "dtypes: float64(116)\n",
      "memory usage: 28.5 MB\n",
      "None\n",
      "<class 'pandas.core.frame.DataFrame'>\n",
      "RangeIndex: 32922 entries, 0 to 32921\n",
      "Columns: 116 entries, consommation_level_1sum to counter_type_GAZ\n",
      "dtypes: float64(116)\n",
      "memory usage: 29.1 MB\n",
      "None\n",
      "<class 'pandas.core.frame.DataFrame'>\n",
      "RangeIndex: 26352 entries, 0 to 26351\n",
      "Columns: 116 entries, consommation_level_1sum to counter_type_GAZ\n",
      "dtypes: float64(116)\n",
      "memory usage: 23.3 MB\n",
      "None\n",
      "<class 'pandas.core.frame.DataFrame'>\n",
      "RangeIndex: 4331 entries, 0 to 4330\n",
      "Columns: 116 entries, consommation_level_1sum to counter_type_GAZ\n",
      "dtypes: float64(116)\n",
      "memory usage: 3.8 MB\n",
      "None\n",
      "<class 'pandas.core.frame.DataFrame'>\n",
      "RangeIndex: 4331 entries, 0 to 4330\n",
      "Columns: 116 entries, consommation_level_1sum to counter_type_GAZ\n",
      "dtypes: float64(116)\n",
      "memory usage: 3.8 MB\n",
      "None\n",
      "<class 'pandas.core.frame.DataFrame'>\n",
      "RangeIndex: 4331 entries, 0 to 4330\n",
      "Columns: 116 entries, consommation_level_1sum to counter_type_GAZ\n",
      "dtypes: float64(116)\n",
      "memory usage: 3.8 MB\n",
      "None\n"
     ]
    }
   ],
   "source": [
    "for data in [X_train1_standardized, X_train2_standardized, X_train3_standardized,\n",
    "           X_test1_standardized, X_test2_standardized, X_test3_standardized]:\n",
    "    print(data.info())"
   ]
  },
  {
   "cell_type": "markdown",
   "metadata": {},
   "source": [
    "#### Comparing between the fraud and non-fraud cases for our dataset"
   ]
  },
  {
   "cell_type": "code",
   "execution_count": 30,
   "metadata": {},
   "outputs": [
    {
     "name": "stdout",
     "output_type": "stream",
     "text": [
      "<class 'pandas.core.series.Series'>\n",
      "Index: 17321 entries, train_Client_119780 to train_Client_105306\n",
      "Series name: target\n",
      "Non-Null Count  Dtype\n",
      "--------------  -----\n",
      "17321 non-null  int64\n",
      "dtypes: int64(1)\n",
      "memory usage: 786.7+ KB\n"
     ]
    }
   ],
   "source": [
    "y_train.info()"
   ]
  },
  {
   "cell_type": "code",
   "execution_count": 35,
   "metadata": {},
   "outputs": [
    {
     "data": {
      "image/png": "[encoded data removed]",
      "text/plain": [
       "<Figure size 1000x600 with 1 Axes>"
      ]
     },
     "metadata": {},
     "output_type": "display_data"
    }
   ],
   "source": [
    "counts = [\n",
    "    (y_train.value_counts(), 'original'),\n",
    "    (y_train1.value_counts(), 'train1'),\n",
    "    (y_train2.value_counts(), 'train2'),\n",
    "    (y_train3.value_counts(), 'train3')\n",
    "]\n",
    "\n",
    "# Create the bar graph\n",
    "fig, ax = plt.subplots(figsize=(10, 6))\n",
    "x = np.arange(len(counts))\n",
    "width = 0.35\n",
    "\n",
    "# Plot the negative cases\n",
    "non_fraud = ax.bar(x - width/2, [count[0].get(0, 0) for count in counts], width, label='non-fraud')\n",
    "\n",
    "# Plot the positive cases\n",
    "fraud = ax.bar(x + width/2, [count[0].get(1, 0) for count in counts], width, label='fraud')\n",
    "\n",
    "\n",
    "# Add labels and title\n",
    "ax.set_xticks(x)\n",
    "ax.set_xticklabels([count[1] for count in counts])\n",
    "ax.set_xlabel('Dataset')\n",
    "ax.set_ylabel('Count')\n",
    "ax.set_title('Comparison of fraud and non-fraud cases')\n",
    "ax.legend()\n",
    "\n",
    "for bar in non_fraud + fraud:\n",
    "    height = bar.get_height()\n",
    "    ax.annotate('{}'.format(int(height)),\n",
    "                xy=(bar.get_x() + bar.get_width() / 2, height),\n",
    "                xytext=(0, 3),\n",
    "                textcoords=\"offset points\",\n",
    "                ha='center', va='bottom')\n",
    "plt.show()"
   ]
  },
  {
   "cell_type": "markdown",
   "metadata": {},
   "source": [
    "## ML process"
   ]
  },
  {
   "cell_type": "markdown",
   "metadata": {},
   "source": [
    "### We chose to use f2 score over f1 score in comparing our models"
   ]
  },
  {
   "cell_type": "code",
   "execution_count": 78,
   "metadata": {},
   "outputs": [],
   "source": [
    "# Make scorer\n",
    "def f2_score(y_true, y_pred):\n",
    "    return fbeta_score(y_true, y_pred, beta=2)\n",
    "f2_scorer = make_scorer(f2_score)"
   ]
  },
  {
   "cell_type": "code",
   "execution_count": null,
   "metadata": {},
   "outputs": [],
   "source": [
    "# Create StratifiedKFold for cross-validation with reduced splits\n",
    "skf = StratifiedKFold(n_splits=3, shuffle=True, random_state=seed)\n",
    "\n",
    "scoring_metrics = {\n",
    "    'f2': f2_scorer,\n",
    "    'precision': make_scorer(precision_score),\n",
    "    'accuracy': make_scorer(accuracy_score),\n",
    "    'roc_auc': make_scorer(roc_auc_score),\n",
    "    'pr_auc': make_scorer(average_precision_score)\n",
    "}\n"
   ]
  },
  {
   "cell_type": "markdown",
   "metadata": {},
   "source": [
    "### 1) Using Logistic Regression"
   ]
  },
  {
   "cell_type": "markdown",
   "metadata": {},
   "source": [
    "#### we use the default LR model to compare between using standardized or normalized data"
   ]
  },
  {
   "cell_type": "code",
   "execution_count": 22,
   "metadata": {},
   "outputs": [
    {
     "name": "stdout",
     "output_type": "stream",
     "text": [
      "Cross-Validation F2 Scores: [0.77783576 0.9631173  0.97360248 0.97259338 0.96291457]\n",
      "Mean F2 Score: 0.9300126974047667\n"
     ]
    }
   ],
   "source": [
    "# Comparing performance of standardized and nominalized datasets for method 1 (SMOTE + Tomak's Link)\n",
    "\n",
    "# Initialize logistic regression model\n",
    "LR = LogisticRegression()\n",
    "\n",
    "# Perform cross-validation (std)\n",
    "cross_val_results_std = cross_val_score(LR, X_train1_standardized, y_train1, cv=5, scoring=f2_scorer)\n",
    "\n",
    "# Print cross-validation F2 score (std)\n",
    "print(\"Cross-Validation F2 Scores:\", cross_val_results_std)\n",
    "print(\"Mean F2 Score:\", cross_val_results_std.mean())"
   ]
  },
  {
   "cell_type": "code",
   "execution_count": 23,
   "metadata": {},
   "outputs": [
    {
     "name": "stderr",
     "output_type": "stream",
     "text": [
      "c:\\Users\\User\\AppData\\Local\\Programs\\Python\\Python310\\lib\\site-packages\\sklearn\\linear_model\\_logistic.py:469: ConvergenceWarning: lbfgs failed to converge (status=1):\n",
      "STOP: TOTAL NO. of ITERATIONS REACHED LIMIT.\n",
      "\n",
      "Increase the number of iterations (max_iter) or scale the data as shown in:\n",
      "    https://scikit-learn.org/stable/modules/preprocessing.html\n",
      "Please also refer to the documentation for alternative solver options:\n",
      "    https://scikit-learn.org/stable/modules/linear_model.html#logistic-regression\n",
      "  n_iter_i = _check_optimize_result(\n",
      "c:\\Users\\User\\AppData\\Local\\Programs\\Python\\Python310\\lib\\site-packages\\sklearn\\linear_model\\_logistic.py:469: ConvergenceWarning: lbfgs failed to converge (status=1):\n",
      "STOP: TOTAL NO. of ITERATIONS REACHED LIMIT.\n",
      "\n",
      "Increase the number of iterations (max_iter) or scale the data as shown in:\n",
      "    https://scikit-learn.org/stable/modules/preprocessing.html\n",
      "Please also refer to the documentation for alternative solver options:\n",
      "    https://scikit-learn.org/stable/modules/linear_model.html#logistic-regression\n",
      "  n_iter_i = _check_optimize_result(\n"
     ]
    },
    {
     "name": "stdout",
     "output_type": "stream",
     "text": [
      "Cross-Validation F2 Scores: [0.77397663 0.96266335 0.97354202 0.97134154 0.96322569]\n",
      "Mean F2 Score: 0.928949843279765\n"
     ]
    },
    {
     "name": "stderr",
     "output_type": "stream",
     "text": [
      "c:\\Users\\User\\AppData\\Local\\Programs\\Python\\Python310\\lib\\site-packages\\sklearn\\linear_model\\_logistic.py:469: ConvergenceWarning: lbfgs failed to converge (status=1):\n",
      "STOP: TOTAL NO. of ITERATIONS REACHED LIMIT.\n",
      "\n",
      "Increase the number of iterations (max_iter) or scale the data as shown in:\n",
      "    https://scikit-learn.org/stable/modules/preprocessing.html\n",
      "Please also refer to the documentation for alternative solver options:\n",
      "    https://scikit-learn.org/stable/modules/linear_model.html#logistic-regression\n",
      "  n_iter_i = _check_optimize_result(\n"
     ]
    }
   ],
   "source": [
    "# Perform cross-validation (nom)\n",
    "cross_val_results_nom = cross_val_score(LR, X_train1_normalized, y_train1, cv=5, scoring=f2_scorer)\n",
    "\n",
    "# Print cross-validation F2 score (nom)\n",
    "print(\"Cross-Validation F2 Scores:\", cross_val_results_nom)\n",
    "print(\"Mean F2 Score:\", cross_val_results_nom.mean())\n",
    "\n",
    "# We pick standardising over norminalizing given its slightly better mean F2 score"
   ]
  },
  {
   "cell_type": "code",
   "execution_count": 89,
   "metadata": {},
   "outputs": [
    {
     "name": "stdout",
     "output_type": "stream",
     "text": [
      "Fitting 3 folds for each of 3 candidates, totalling 9 fits\n",
      "Fitting 3 folds for each of 3 candidates, totalling 9 fits\n",
      "Fitting 3 folds for each of 3 candidates, totalling 9 fits\n",
      "Mean FIT_TIME: 84.70152441660564\n",
      "Mean SCORE_TIME: 0.013197024663289389\n",
      "Mean TEST_F2: 0.9343133549023314\n",
      "Mean TEST_PRECISION: 0.9748086389616039\n",
      "Mean TEST_ACCURACY: 0.9504065361319635\n",
      "Mean TEST_ROC_AUC: 0.950406550293487\n",
      "Mean TEST_PR_AUC: 0.9390610619080602\n"
     ]
    }
   ],
   "source": [
    "# Initialize logistic regression model\n",
    "LR = LogisticRegression()\n",
    "\n",
    "param_grid_LR = [    \n",
    "    {'penalty' : ['l1', 'l2', 'elasticnet'],\n",
    "    'C' : np.logspace(-4, 4, 20),\n",
    "    'solver' : ['lbfgs','newton-cg','liblinear','sag','saga'],\n",
    "    'max_iter' : [100, 1000, 2500]\n",
    "    }\n",
    "]\n",
    "\n",
    "# Perform RandomizedSearchCV with reduced iterations\n",
    "LR_randomized = RandomizedSearchCV(\n",
    "    LR,\n",
    "    param_distributions=param_grid_LR,\n",
    "    n_iter=3,\n",
    "    cv=skf,\n",
    "    scoring=f2_scorer,\n",
    "    random_state=seed,\n",
    "    n_jobs=-1,\n",
    "    verbose = True\n",
    ")\n",
    "\n",
    "cv_LR_m1 = cross_validate(LR_randomized, X_train1_standardized, y_train1, cv=skf, scoring=scoring_metrics)\n",
    "\n",
    "for metric, score in cv_LR_m1.items():\n",
    "    print(f\"Mean {metric.upper()}: {np.mean(score)}\")"
   ]
  },
  {
   "cell_type": "code",
   "execution_count": 90,
   "metadata": {},
   "outputs": [
    {
     "name": "stdout",
     "output_type": "stream",
     "text": [
      "Fitting 3 folds for each of 3 candidates, totalling 9 fits\n",
      "Fitting 3 folds for each of 3 candidates, totalling 9 fits\n",
      "Fitting 3 folds for each of 3 candidates, totalling 9 fits\n",
      "Mean FIT_TIME: 83.74887657165527\n",
      "Mean SCORE_TIME: 0.011704285939534506\n",
      "Mean TEST_F2: 0.934664671198577\n",
      "Mean TEST_PRECISION: 0.9752839389698621\n",
      "Mean TEST_ACCURACY: 0.9507927829414982\n",
      "Mean TEST_ROC_AUC: 0.9507927829414982\n",
      "Mean TEST_PR_AUC: 0.9396535977116375\n"
     ]
    }
   ],
   "source": [
    "cv_LR_m2 = cross_validate(LR_randomized, X_train2_standardized, y_train2, cv=skf, scoring=scoring_metrics)\n",
    "\n",
    "for metric, score in cv_LR_m2.items():\n",
    "    print(f\"Mean {metric.upper()}: {np.mean(score)}\")"
   ]
  },
  {
   "cell_type": "code",
   "execution_count": 91,
   "metadata": {},
   "outputs": [
    {
     "name": "stdout",
     "output_type": "stream",
     "text": [
      "Fitting 3 folds for each of 3 candidates, totalling 9 fits\n",
      "Fitting 3 folds for each of 3 candidates, totalling 9 fits\n",
      "Fitting 3 folds for each of 3 candidates, totalling 9 fits\n",
      "Mean FIT_TIME: 70.97663633028667\n",
      "Mean SCORE_TIME: 0.010557730992635092\n",
      "Mean TEST_F2: 0.9400098255533615\n",
      "Mean TEST_PRECISION: 0.9767434235566091\n",
      "Mean TEST_ACCURACY: 0.9482012750455374\n",
      "Mean TEST_ROC_AUC: 0.9509460937334623\n",
      "Mean TEST_PR_AUC: 0.9487634336919667\n"
     ]
    }
   ],
   "source": [
    "cv_LR_m3 = cross_validate(LR_randomized, X_train3_standardized, y_train3, cv=skf, scoring=scoring_metrics)\n",
    "\n",
    "for metric, score in cv_LR_m3.items():\n",
    "    print(f\"Mean {metric.upper()}: {np.mean(score)}\")"
   ]
  },
  {
   "cell_type": "markdown",
   "metadata": {},
   "source": [
    "### 2) Using SVM "
   ]
  },
  {
   "cell_type": "markdown",
   "metadata": {},
   "source": [
    "#### SVM was split into 3 cells otherwise it takes too long to run"
   ]
  },
  {
   "cell_type": "code",
   "execution_count": null,
   "metadata": {},
   "outputs": [
    {
     "name": "stdout",
     "output_type": "stream",
     "text": [
      "Cross-Validation F2 Scores: [0.78952492 0.96699138 0.97410642 0.97341843 0.96563062]\n",
      "Mean F2 Score: 0.9339343542360814\n",
      "\n"
     ]
    }
   ],
   "source": [
    "# Create an SVM classifier\n",
    "SVM = svm.SVC(kernel='linear', random_state=seed)\n",
    "\n",
    "cross_val_results_m1_SVM = cross_val_score(SVM, X_train1_standardized, y_train1, cv=5, scoring=f2_scorer)\n",
    "print(\"Cross-Validation F2 Scores:\", cross_val_results_m1_SVM)\n",
    "print(f\"Mean F2 Score: {cross_val_results_m1_SVM.mean()}\\n\")\n"
   ]
  },
  {
   "cell_type": "code",
   "execution_count": null,
   "metadata": {},
   "outputs": [
    {
     "name": "stdout",
     "output_type": "stream",
     "text": [
      "Cross-Validation F2 Scores: [0.79581484 0.96610581 0.97460452 0.97270246 0.9656952 ]\n",
      "Mean F2 Score: 0.9339343542360814\n",
      "\n"
     ]
    }
   ],
   "source": [
    "cross_val_results_m2_SVM = cross_val_score(SVM, X_train2_standardized, y_train2, cv=5, scoring=f2_scorer)\n",
    "print(\"Cross-Validation F2 Scores:\", cross_val_results_m2_SVM)\n",
    "print(f\"Mean F2 Score: {cross_val_results_m2_SVM.mean()}\\n\")"
   ]
  },
  {
   "cell_type": "code",
   "execution_count": null,
   "metadata": {},
   "outputs": [
    {
     "name": "stdout",
     "output_type": "stream",
     "text": [
      "Cross-Validation F2 Scores: [0.79550202 0.96894825 0.97749367 0.97565855 0.96751601]\n",
      "Mean F2 Score: 0.9339343542360814\n",
      "\n"
     ]
    }
   ],
   "source": [
    "cross_val_results_m3_SVM = cross_val_score(SVM, X_train3_standardized, y_train3, cv=5, scoring=f2_scorer)\n",
    "print(\"Cross-Validation F2 Scores:\", cross_val_results_m3_SVM)\n",
    "print(f\"Mean F2 Score: {cross_val_results_m3_SVM.mean()}\\n\")"
   ]
  },
  {
   "cell_type": "markdown",
   "metadata": {},
   "source": [
    "### 3) Using GBM"
   ]
  },
  {
   "cell_type": "code",
   "execution_count": 86,
   "metadata": {},
   "outputs": [
    {
     "name": "stdout",
     "output_type": "stream",
     "text": [
      "Fitting 3 folds for each of 3 candidates, totalling 9 fits\n",
      "Fitting 3 folds for each of 3 candidates, totalling 9 fits\n",
      "Fitting 3 folds for each of 3 candidates, totalling 9 fits\n",
      "Mean FIT_TIME: 3.443812052408854\n",
      "Mean SCORE_TIME: 0.04821364084879557\n",
      "Mean TEST_F2: 0.9631372107115617\n",
      "Mean TEST_PRECISION: 0.9822584989452366\n",
      "Mean TEST_ACCURACY: 0.9705790813795229\n",
      "Mean TEST_ROC_AUC: 0.9705790725441051\n",
      "Mean TEST_PR_AUC: 0.9622310210501199\n"
     ]
    }
   ],
   "source": [
    "# Create a LightGBM classifier\n",
    "GBM = lgb.LGBMClassifier(force_row_wise=True, verbose=-1,  random_state=seed)\n",
    "\n",
    "param_grid_GBM = {\n",
    "    'num_leaves': [31, 50, 70, 90, 127],\n",
    "    'learning_rate': [0.01, 0.05, 0.1, 0.2],\n",
    "    'n_estimators': [50, 100, 150, 200],\n",
    "    'min_child_samples': [20, 50, 100, 300],\n",
    "    'min_child_weight': [0.001, 0.01, 0.1, 1],\n",
    "    'subsample': [0.7, 0.8, 0.9, 1.0],\n",
    "    'colsample_bytree': [0.7, 0.8, 0.9, 1.0],\n",
    "    'reg_alpha': [0, 0.1, 1, 2, 5],\n",
    "    'reg_lambda': [0, 0.1, 1, 2, 5]\n",
    "}\n",
    "\n",
    "\n",
    "GBM_randomized = RandomizedSearchCV(\n",
    "    GBM,\n",
    "    param_distributions=param_grid_GBM,\n",
    "    n_iter=3,\n",
    "    cv=skf,\n",
    "    scoring=f2_scorer,\n",
    "    random_state=seed,\n",
    "    n_jobs=-1,\n",
    "    verbose = True\n",
    ")\n",
    "\n",
    "\n",
    "cv_GBM_m1 = cross_validate(GBM_randomized, X_train1_standardized, y_train1, cv=skf, scoring=scoring_metrics)\n",
    "\n",
    "for metric, score in cv_GBM_m1.items():\n",
    "    print(f\"Mean {metric.upper()}: {np.mean(score)}\")\n"
   ]
  },
  {
   "cell_type": "code",
   "execution_count": 87,
   "metadata": {},
   "outputs": [
    {
     "name": "stdout",
     "output_type": "stream",
     "text": [
      "Fitting 3 folds for each of 3 candidates, totalling 9 fits\n",
      "Fitting 3 folds for each of 3 candidates, totalling 9 fits\n",
      "Fitting 3 folds for each of 3 candidates, totalling 9 fits\n",
      "Mean FIT_TIME: 3.474242607752482\n",
      "Mean SCORE_TIME: 0.05310869216918945\n",
      "Mean TEST_F2: 0.9622290299604366\n",
      "Mean TEST_PRECISION: 0.9809657804299898\n",
      "Mean TEST_ACCURACY: 0.9695340501792115\n",
      "Mean TEST_ROC_AUC: 0.9695340501792115\n",
      "Mean TEST_PR_AUC: 0.960601511590645\n"
     ]
    }
   ],
   "source": [
    "cv_GBM_m2 = cross_validate(GBM_randomized, X_train2_standardized, y_train2, cv=skf, scoring=scoring_metrics)\n",
    "\n",
    "for metric, score in cv_GBM_m2.items():\n",
    "    print(f\"Mean {metric.upper()}: {np.mean(score)}\")"
   ]
  },
  {
   "cell_type": "code",
   "execution_count": 88,
   "metadata": {},
   "outputs": [
    {
     "name": "stdout",
     "output_type": "stream",
     "text": [
      "Fitting 3 folds for each of 3 candidates, totalling 9 fits\n",
      "Fitting 3 folds for each of 3 candidates, totalling 9 fits\n",
      "Fitting 3 folds for each of 3 candidates, totalling 9 fits\n",
      "Mean FIT_TIME: 2.948671499888102\n",
      "Mean SCORE_TIME: 0.044251600901285805\n",
      "Mean TEST_F2: 0.9671805995652155\n",
      "Mean TEST_PRECISION: 0.9775311531138434\n",
      "Mean TEST_ACCURACY: 0.9672131147540983\n",
      "Mean TEST_ROC_AUC: 0.9676315116547741\n",
      "Mean TEST_PR_AUC: 0.9631034028607249\n"
     ]
    }
   ],
   "source": [
    "cv_GBM_m3 = cross_validate(GBM_randomized, X_train3_standardized, y_train3, cv=skf, scoring=scoring_metrics)\n",
    "\n",
    "for metric, score in cv_GBM_m3.items():\n",
    "    print(f\"Mean {metric.upper()}: {np.mean(score)}\")"
   ]
  },
  {
   "cell_type": "markdown",
   "metadata": {},
   "source": [
    "### 4) Using Random Forest"
   ]
  },
  {
   "cell_type": "code",
   "execution_count": 83,
   "metadata": {},
   "outputs": [
    {
     "name": "stdout",
     "output_type": "stream",
     "text": [
      "Fitting 3 folds for each of 3 candidates, totalling 9 fits\n",
      "Fitting 3 folds for each of 3 candidates, totalling 9 fits\n",
      "Fitting 3 folds for each of 3 candidates, totalling 9 fits\n",
      "Mean FIT_TIME: 27.650081237157185\n",
      "Mean SCORE_TIME: 0.34339269002278644\n",
      "Mean TEST_F2: 0.9707066808890271\n",
      "Mean TEST_PRECISION: 0.9749814155220008\n",
      "Mean TEST_ACCURACY: 0.9723791130605149\n",
      "Mean TEST_ROC_AUC: 0.9723792371404886\n",
      "Mean TEST_PR_AUC: 0.9605601798546438\n"
     ]
    }
   ],
   "source": [
    "RF = RandomForestClassifier(n_estimators=100, random_state=seed)\n",
    "\n",
    "param_grid_RF = {\n",
    "    'n_estimators':[100, 200, 300, 400, 500],\n",
    "    'max_features': ['sqrt', 'log2'],\n",
    "    'max_depth': [5, 10, 15, 20, 25, 30, 50],\n",
    "    'min_samples_split': [2, 5, 10],\n",
    "    'min_samples_leaf': [1, 2, 4],\n",
    "    'bootstrap': [True, False]\n",
    "}\n",
    "\n",
    "RF_randomized = RandomizedSearchCV(\n",
    "    RF,\n",
    "    param_distributions=param_grid_RF,\n",
    "    n_iter=3,\n",
    "    cv=skf,\n",
    "    scoring=f2_scorer,\n",
    "    random_state=seed,\n",
    "    n_jobs=-1,\n",
    "    verbose = True\n",
    ")\n",
    "\n",
    "\n",
    "cv_RF_m1 = cross_validate(RF_randomized, X_train1_standardized, y_train1, cv=skf, scoring=scoring_metrics)\n",
    "\n",
    "for metric, score in cv_RF_m1.items():\n",
    "    print(f\"Mean {metric.upper()}: {np.mean(score)}\")"
   ]
  },
  {
   "cell_type": "code",
   "execution_count": 84,
   "metadata": {},
   "outputs": [
    {
     "name": "stdout",
     "output_type": "stream",
     "text": [
      "Fitting 3 folds for each of 3 candidates, totalling 9 fits\n",
      "Fitting 3 folds for each of 3 candidates, totalling 9 fits\n",
      "Fitting 3 folds for each of 3 candidates, totalling 9 fits\n",
      "Mean FIT_TIME: 27.873144547144573\n",
      "Mean SCORE_TIME: 0.3575012683868408\n",
      "Mean TEST_F2: 0.9711662844851198\n",
      "Mean TEST_PRECISION: 0.9764073873735967\n",
      "Mean TEST_ACCURACY: 0.9732094040459267\n",
      "Mean TEST_ROC_AUC: 0.9732094040459267\n",
      "Mean TEST_PR_AUC: 0.9620503199753777\n"
     ]
    }
   ],
   "source": [
    "cv_RF_m2 = cross_validate(RF_randomized, X_train2_standardized, y_train2, cv=skf, scoring=scoring_metrics)\n",
    "\n",
    "for metric, score in cv_RF_m2.items():\n",
    "    print(f\"Mean {metric.upper()}: {np.mean(score)}\")"
   ]
  },
  {
   "cell_type": "code",
   "execution_count": 85,
   "metadata": {},
   "outputs": [
    {
     "name": "stdout",
     "output_type": "stream",
     "text": [
      "Fitting 3 folds for each of 3 candidates, totalling 9 fits\n",
      "Fitting 3 folds for each of 3 candidates, totalling 9 fits\n",
      "Fitting 3 folds for each of 3 candidates, totalling 9 fits\n",
      "Mean FIT_TIME: 21.540926615397137\n",
      "Mean SCORE_TIME: 0.26586437225341797\n",
      "Mean TEST_F2: 0.9736070071298841\n",
      "Mean TEST_PRECISION: 0.9622583395401043\n",
      "Mean TEST_ACCURACY: 0.9647844565877354\n",
      "Mean TEST_ROC_AUC: 0.9628885038666978\n",
      "Mean TEST_PR_AUC: 0.9530283950019086\n"
     ]
    }
   ],
   "source": [
    "cv_RF_m3 = cross_validate(RF_randomized, X_train3_standardized, y_train3, cv=skf, scoring=scoring_metrics)\n",
    "\n",
    "for metric, score in cv_RF_m3.items():\n",
    "    print(f\"Mean {metric.upper()}: {np.mean(score)}\")"
   ]
  },
  {
   "cell_type": "markdown",
   "metadata": {},
   "source": [
    "### 5) Using ADA boost"
   ]
  },
  {
   "cell_type": "code",
   "execution_count": 80,
   "metadata": {},
   "outputs": [
    {
     "name": "stdout",
     "output_type": "stream",
     "text": [
      "Fitting 3 folds for each of 3 candidates, totalling 9 fits\n"
     ]
    },
    {
     "name": "stderr",
     "output_type": "stream",
     "text": [
      "c:\\Users\\User\\AppData\\Local\\Programs\\Python\\Python310\\lib\\site-packages\\sklearn\\ensemble\\_weight_boosting.py:519: FutureWarning: The SAMME.R algorithm (the default) is deprecated and will be removed in 1.6. Use the SAMME algorithm to circumvent this warning.\n",
      "  warnings.warn(\n"
     ]
    },
    {
     "name": "stdout",
     "output_type": "stream",
     "text": [
      "Fitting 3 folds for each of 3 candidates, totalling 9 fits\n"
     ]
    },
    {
     "name": "stderr",
     "output_type": "stream",
     "text": [
      "c:\\Users\\User\\AppData\\Local\\Programs\\Python\\Python310\\lib\\site-packages\\sklearn\\ensemble\\_weight_boosting.py:519: FutureWarning: The SAMME.R algorithm (the default) is deprecated and will be removed in 1.6. Use the SAMME algorithm to circumvent this warning.\n",
      "  warnings.warn(\n"
     ]
    },
    {
     "name": "stdout",
     "output_type": "stream",
     "text": [
      "Fitting 3 folds for each of 3 candidates, totalling 9 fits\n"
     ]
    },
    {
     "name": "stderr",
     "output_type": "stream",
     "text": [
      "c:\\Users\\User\\AppData\\Local\\Programs\\Python\\Python310\\lib\\site-packages\\sklearn\\ensemble\\_weight_boosting.py:519: FutureWarning: The SAMME.R algorithm (the default) is deprecated and will be removed in 1.6. Use the SAMME algorithm to circumvent this warning.\n",
      "  warnings.warn(\n"
     ]
    },
    {
     "name": "stdout",
     "output_type": "stream",
     "text": [
      "Mean FIT_TIME: 39.2658744653066\n",
      "Mean SCORE_TIME: 0.549990733464559\n",
      "Mean TEST_F2: 0.9453500022240268\n",
      "Mean TEST_PRECISION: 0.9741055459284329\n",
      "Mean TEST_ACCURACY: 0.9567376374059012\n",
      "Mean TEST_ROC_AUC: 0.9567377729515281\n",
      "Mean TEST_PR_AUC: 0.9449103152368141\n"
     ]
    }
   ],
   "source": [
    "ADA = AdaBoostClassifier(DecisionTreeClassifier(max_depth=1), n_estimators=200)\n",
    "\n",
    "param_grid_ADA = {\n",
    "    'n_estimators': [100, 200, 300],\n",
    "    'learning_rate': [0.1, 0.5, 1.0]\n",
    "}\n",
    "\n",
    "ADA_randomized = RandomizedSearchCV(\n",
    "    ADA,\n",
    "    param_distributions=param_grid_ADA,\n",
    "    n_iter=3,\n",
    "    cv=skf,\n",
    "    scoring=f2_scorer,\n",
    "    random_state=seed,\n",
    "    n_jobs=-1,\n",
    "    verbose = True\n",
    ")\n",
    "\n",
    "cv_ADA_m1 = cross_validate(ADA_randomized, X_train1_standardized, y_train1, cv=skf, scoring=scoring_metrics)\n",
    "\n",
    "for metric, score in cv_ADA_m1.items():\n",
    "    print(f\"Mean {metric.upper()}: {np.mean(score)}\")"
   ]
  },
  {
   "cell_type": "code",
   "execution_count": 81,
   "metadata": {},
   "outputs": [
    {
     "name": "stdout",
     "output_type": "stream",
     "text": [
      "Fitting 3 folds for each of 3 candidates, totalling 9 fits\n"
     ]
    },
    {
     "name": "stderr",
     "output_type": "stream",
     "text": [
      "c:\\Users\\User\\AppData\\Local\\Programs\\Python\\Python310\\lib\\site-packages\\sklearn\\ensemble\\_weight_boosting.py:519: FutureWarning: The SAMME.R algorithm (the default) is deprecated and will be removed in 1.6. Use the SAMME algorithm to circumvent this warning.\n",
      "  warnings.warn(\n"
     ]
    },
    {
     "name": "stdout",
     "output_type": "stream",
     "text": [
      "Fitting 3 folds for each of 3 candidates, totalling 9 fits\n"
     ]
    },
    {
     "name": "stderr",
     "output_type": "stream",
     "text": [
      "c:\\Users\\User\\AppData\\Local\\Programs\\Python\\Python310\\lib\\site-packages\\sklearn\\ensemble\\_weight_boosting.py:519: FutureWarning: The SAMME.R algorithm (the default) is deprecated and will be removed in 1.6. Use the SAMME algorithm to circumvent this warning.\n",
      "  warnings.warn(\n"
     ]
    },
    {
     "name": "stdout",
     "output_type": "stream",
     "text": [
      "Fitting 3 folds for each of 3 candidates, totalling 9 fits\n"
     ]
    },
    {
     "name": "stderr",
     "output_type": "stream",
     "text": [
      "c:\\Users\\User\\AppData\\Local\\Programs\\Python\\Python310\\lib\\site-packages\\sklearn\\ensemble\\_weight_boosting.py:519: FutureWarning: The SAMME.R algorithm (the default) is deprecated and will be removed in 1.6. Use the SAMME algorithm to circumvent this warning.\n",
      "  warnings.warn(\n"
     ]
    },
    {
     "name": "stdout",
     "output_type": "stream",
     "text": [
      "Mean FIT_TIME: 40.8813308874766\n",
      "Mean SCORE_TIME: 0.632824977238973\n",
      "Mean TEST_F2: 0.9451257589752241\n",
      "Mean TEST_PRECISION: 0.9732867489754997\n",
      "Mean TEST_ACCURACY: 0.9562906263288986\n",
      "Mean TEST_ROC_AUC: 0.9562906263288986\n",
      "Mean TEST_PR_AUC: 0.9441035841432409\n"
     ]
    }
   ],
   "source": [
    "cv_ADA_m2 = cross_validate(ADA_randomized, X_train2_standardized, y_train2, cv=skf, scoring=scoring_metrics)\n",
    "\n",
    "for metric, score in cv_ADA_m2.items():\n",
    "    print(f\"Mean {metric.upper()}: {np.mean(score)}\")"
   ]
  },
  {
   "cell_type": "code",
   "execution_count": 82,
   "metadata": {},
   "outputs": [
    {
     "name": "stdout",
     "output_type": "stream",
     "text": [
      "Fitting 3 folds for each of 3 candidates, totalling 9 fits\n"
     ]
    },
    {
     "name": "stderr",
     "output_type": "stream",
     "text": [
      "c:\\Users\\User\\AppData\\Local\\Programs\\Python\\Python310\\lib\\site-packages\\sklearn\\ensemble\\_weight_boosting.py:519: FutureWarning: The SAMME.R algorithm (the default) is deprecated and will be removed in 1.6. Use the SAMME algorithm to circumvent this warning.\n",
      "  warnings.warn(\n"
     ]
    },
    {
     "name": "stdout",
     "output_type": "stream",
     "text": [
      "Fitting 3 folds for each of 3 candidates, totalling 9 fits\n"
     ]
    },
    {
     "name": "stderr",
     "output_type": "stream",
     "text": [
      "c:\\Users\\User\\AppData\\Local\\Programs\\Python\\Python310\\lib\\site-packages\\sklearn\\ensemble\\_weight_boosting.py:519: FutureWarning: The SAMME.R algorithm (the default) is deprecated and will be removed in 1.6. Use the SAMME algorithm to circumvent this warning.\n",
      "  warnings.warn(\n"
     ]
    },
    {
     "name": "stdout",
     "output_type": "stream",
     "text": [
      "Fitting 3 folds for each of 3 candidates, totalling 9 fits\n"
     ]
    },
    {
     "name": "stderr",
     "output_type": "stream",
     "text": [
      "c:\\Users\\User\\AppData\\Local\\Programs\\Python\\Python310\\lib\\site-packages\\sklearn\\ensemble\\_weight_boosting.py:519: FutureWarning: The SAMME.R algorithm (the default) is deprecated and will be removed in 1.6. Use the SAMME algorithm to circumvent this warning.\n",
      "  warnings.warn(\n"
     ]
    },
    {
     "name": "stdout",
     "output_type": "stream",
     "text": [
      "Mean FIT_TIME: 32.54342325528463\n",
      "Mean SCORE_TIME: 0.49530752499898273\n",
      "Mean TEST_F2: 0.9523508000264767\n",
      "Mean TEST_PRECISION: 0.9705378071125846\n",
      "Mean TEST_ACCURACY: 0.9539313904068002\n",
      "Mean TEST_ROC_AUC: 0.9549067090678469\n",
      "Mean TEST_PR_AUC: 0.9496617395889745\n"
     ]
    }
   ],
   "source": [
    "cv_ADA_m3 = cross_validate(ADA_randomized, X_train3_standardized, y_train3, cv=skf, scoring=scoring_metrics)\n",
    "\n",
    "for metric, score in cv_ADA_m3.items():\n",
    "    print(f\"Mean {metric.upper()}: {np.mean(score)}\")"
   ]
  },
  {
   "cell_type": "markdown",
   "metadata": {},
   "source": [
    "## Model Evaluation"
   ]
  },
  {
   "cell_type": "markdown",
   "metadata": {},
   "source": [
    "#### We note that random forest performs best from our cross validation with all 3 datasets, hence will will be focusing on tuning that model"
   ]
  },
  {
   "cell_type": "code",
   "execution_count": 98,
   "metadata": {},
   "outputs": [
    {
     "name": "stdout",
     "output_type": "stream",
     "text": [
      "Fitting 3 folds for each of 3 candidates, totalling 9 fits\n",
      "F2 score: 0.151356993736952\n"
     ]
    }
   ],
   "source": [
    "RF_m1 = RF_randomized.fit(X_train1_standardized, y_train1)\n",
    "best_model_m1 = RF_randomized.best_estimator_\n",
    "best_model_m1.fit(X_train1_standardized, y_train1)\n",
    "y_pred_m1 = best_model_m1.predict(X_test1_standardized)\n",
    "\n",
    "f2_score = fbeta_score(y_test1, y_pred_m1, beta=2)\n",
    "print(f'F2 score: {f2_score}')"
   ]
  },
  {
   "cell_type": "code",
   "execution_count": 99,
   "metadata": {},
   "outputs": [
    {
     "name": "stdout",
     "output_type": "stream",
     "text": [
      "Fitting 3 folds for each of 3 candidates, totalling 9 fits\n",
      "F2 score: 0.2351851851851852\n"
     ]
    }
   ],
   "source": [
    "RF_m2 = RF_randomized.fit(X_train2_standardized, y_train2)\n",
    "best_model_m2 = RF_randomized.best_estimator_\n",
    "best_model_m2.fit(X_train2_standardized, y_train2)\n",
    "y_pred_m2 = best_model_m2.predict(X_test1_standardized)\n",
    "f2_score = fbeta_score(y_test1, y_pred_m2, beta=2)\n",
    "print(f'F2 score: {f2_score}')"
   ]
  },
  {
   "cell_type": "code",
   "execution_count": 100,
   "metadata": {},
   "outputs": [
    {
     "name": "stdout",
     "output_type": "stream",
     "text": [
      "Fitting 3 folds for each of 3 candidates, totalling 9 fits\n",
      "F2 score: 0.27631578947368424\n"
     ]
    }
   ],
   "source": [
    "RF_m3 = RF_randomized.fit(X_train3_standardized, y_train3)\n",
    "best_model_m3 = RF_randomized.best_estimator_\n",
    "best_model_m3.fit(X_train3_standardized, y_train3)\n",
    "y_pred_m3 = best_model_m3.predict(X_test3_standardized)\n",
    "f2_score = fbeta_score(y_test3, y_pred_m3, beta=2)\n",
    "print(f'F2 score: {f2_score}')"
   ]
  }
 ],
 "metadata": {
  "kernelspec": {
   "display_name": "Python 3",
   "language": "python",
   "name": "python3"
  },
  "language_info": {
   "codemirror_mode": {
    "name": "ipython",
    "version": 3
   },
   "file_extension": ".py",
   "mimetype": "text/x-python",
   "name": "python",
   "nbconvert_exporter": "python",
   "pygments_lexer": "ipython3",
   "version": "3.10.11"
  }
 },
 "nbformat": 4,
 "nbformat_minor": 2
}
